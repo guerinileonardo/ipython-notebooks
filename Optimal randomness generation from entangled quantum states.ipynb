{
 "cells": [
  {
   "cell_type": "markdown",
   "metadata": {},
   "source": [
    "Introduction\n",
    "=======\n",
    "This notebook is the computational appendix to arXiv:1505.03837. We detail how to obtain the numerical results.\n",
    "\n",
    "To run this notebook, the dependencies are [NumPy](http://www.numpy.org/), [MatPlotLib](http://matplotlib.org/), [QuTip](http://www.qutip.org), [SymPy](http://www.sympy.org), and [Ncpol2sdpa](http://peterwittek.github.io/ncpol2sdpa/)>=1.7. Furthermore, to solve the semidefinite programmes (SDPs), a member of the [SDPA](http://sdpa.sourceforge.net/download.html) family of solvers must be in the path.\n",
    "\n",
    "As a first step, we import all necessary functions:"
   ]
  },
  {
   "cell_type": "code",
   "execution_count": 1,
   "metadata": {
    "collapsed": false
   },
   "outputs": [],
   "source": [
    "from math import atan\n",
    "import matplotlib.pyplot as plt\n",
    "from numpy import *\n",
    "from qutip import *\n",
    "from ncpol2sdpa import *"
   ]
  },
  {
   "cell_type": "markdown",
   "metadata": {},
   "source": [
    "Maximum guessing probability with the elegant inequality and a POVM\n",
    "------------------------------------------------------------------------------------------\n",
    "First we set the Bell scenario: Alice has three dichotomic measurements and one four-output POVM. Bob has four dichotomic measurements. We replicate the elegant Bell inequality [1] in the Collins-Gisin notation [2], leaving blank spaces for Alice's POVM:"
   ]
  },
  {
   "cell_type": "code",
   "execution_count": 2,
   "metadata": {
    "collapsed": true
   },
   "outputs": [],
   "source": [
    "A_configuration = [2, 2, 2, 4]\n",
    "B_configuration = [2, 2, 2, 2]\n",
    "I = [[ 0, -1.5, 0.5, 0.5,  0.5],\n",
    "     [ 0,    1,   1,  -1,   -1],\n",
    "     [ 0,    1,  -1,   1,   -1],\n",
    "     [ 0,    1,  -1,  -1,    1],\n",
    "     [ 0,    0,   0,   0,    0],\n",
    "     [ 0,    0,   0,   0,    0],\n",
    "     [ 0,    0,   0,   0,    0]]"
   ]
  },
  {
   "cell_type": "markdown",
   "metadata": {},
   "source": [
    "Next we define the algebra of the measurement operators:"
   ]
  },
  {
   "cell_type": "code",
   "execution_count": 3,
   "metadata": {
    "collapsed": true
   },
   "outputs": [],
   "source": [
    "A = generate_measurements(A_configuration, 'A')\n",
    "B = generate_measurements(B_configuration, 'B')\n",
    "substitutions = projective_measurement_constraints(A, B)"
   ]
  },
  {
   "cell_type": "markdown",
   "metadata": {},
   "source": [
    "We are looking for the maximum guessing probability, so the constraint will be the Bell inequality which also includes the POVM tetrahedron. The tetrahedron coefficients have a $k$ parameter, but the numerical calculations are insensitive to it. Since we want the Bell inequality to match the maximum violation, we add a pair of inequality constraints."
   ]
  },
  {
   "cell_type": "code",
   "execution_count": 4,
   "metadata": {
    "collapsed": true
   },
   "outputs": [],
   "source": [
    "k = 1.0\n",
    "bell_inequality = - define_objective_with_I(I, A, B) - \\\n",
    "                      k*(A[3][0]*B[0][0] + A[3][1]*B[1][0] + A[3][2]*B[2][0] +\n",
    "                      (1-A[3][0]-A[3][1]-A[3][2])*B[3][0])\n",
    "bounds = [-sqrt(3) + bell_inequality, sqrt(3) - bell_inequality]"
   ]
  },
  {
   "cell_type": "markdown",
   "metadata": {},
   "source": [
    "The objective is the maximum guessing probability. The SDPA solver can only minimize, so we flip the sign. It is sufficient to study one output, as the results are symmetric in the POVM."
   ]
  },
  {
   "cell_type": "code",
   "execution_count": 5,
   "metadata": {
    "collapsed": true
   },
   "outputs": [],
   "source": [
    "objective = - A[3][0]"
   ]
  },
  {
   "cell_type": "markdown",
   "metadata": {},
   "source": [
    "Here we give an example of a level 2+AAB+ABB relaxation. Higher level relaxations are straightforward generalization of this. Obtaining the relaxation can take a few minutes."
   ]
  },
  {
   "cell_type": "code",
   "execution_count": 6,
   "metadata": {
    "collapsed": true
   },
   "outputs": [],
   "source": [
    "level = 2\n",
    "AAB = [Ak*Ai*Bj for Ak in flatten(A) for Ai in flatten(A) for Bj in flatten(B)]\n",
    "ABB = [Ak*Bi*Bj for Ak in flatten(A) for Bi in flatten(B) for Bj in flatten(B)]\n",
    "sdpRelaxation = SdpRelaxation(flatten([A, B]))\n",
    "sdpRelaxation.get_relaxation(level, objective=objective,\n",
    "                             bounds = bounds,\n",
    "                             substitutions=substitutions,\n",
    "                             extramonomials = flatten([AAB, ABB]))"
   ]
  },
  {
   "cell_type": "markdown",
   "metadata": {},
   "source": [
    "Solving the SDP takes another few minutes."
   ]
  },
  {
   "cell_type": "code",
   "execution_count": 7,
   "metadata": {
    "collapsed": false
   },
   "outputs": [
    {
     "name": "stdout",
     "output_type": "stream",
     "text": [
      "(-0.25142027977524845, -0.2507110638510907)\n"
     ]
    }
   ],
   "source": [
    "print(solve_sdp(sdpRelaxation))"
   ]
  },
  {
   "cell_type": "markdown",
   "metadata": {},
   "source": [
    "The regular-precision solver will not give an accurate result, it will yield a large gap between the primal and dual. To solve the problem with higher precision, we export it to a file."
   ]
  },
  {
   "cell_type": "code",
   "execution_count": 8,
   "metadata": {
    "collapsed": true
   },
   "outputs": [],
   "source": [
    "write_to_sdpa(sdpRelaxation, \"elegant_povm.dat-s\")"
   ]
  },
  {
   "cell_type": "markdown",
   "metadata": {},
   "source": [
    "Oddly, solving this with the arbitrary-precision solver SDPA_GMP or the quad-double-precision solver SDPA_QD will lead to divergent results. This is due to the constraint that involves $\\sqrt{3}$. It is written to the file at regular double precision, which leads to the divergent behaviour with the higher precision solvers. To rectify the problem, the file can be manually edited to include $\\sqrt{3}$ at a higher precision. We used six extra digits, that is, $1.7320508075688772$. With this setting, we get $0.25$ up to $10^{-8}$ precision at this level of relaxation using the quad-double-precision solver, with a relative gap between the primal and dual on the order of $10^{-57}$."
   ]
  },
  {
   "cell_type": "markdown",
   "metadata": {},
   "source": [
    "Noise sensitivity of the analytical result\n",
    "--------------------------------------------------------\n",
    "We analyze the noise sensitivity using the full correlations [1], therefore we need a function that generates a behaviour for a given state and a measurement. For convenience, we define a function to calculate the dot product $\\vec{\\sigma}\\vec{v}$."
   ]
  },
  {
   "cell_type": "code",
   "execution_count": 2,
   "metadata": {
    "collapsed": true
   },
   "outputs": [],
   "source": [
    "def dp(v, sigma):\n",
    "    result = v[0]*sigma[0]\n",
    "    for i in range(1, 3):\n",
    "        result += v[i]*sigma[i]\n",
    "    return result"
   ]
  },
  {
   "cell_type": "markdown",
   "metadata": {},
   "source": [
    "Next we define the joint probability as the function of $p$ the parameter in a Werner state. The measurements correspond to the ones described in the manuscript, with the POVM being the tetrahedron."
   ]
  },
  {
   "cell_type": "code",
   "execution_count": 3,
   "metadata": {
    "collapsed": true
   },
   "outputs": [],
   "source": [
    "\n",
    "def joint_probabilities(p):\n",
    "    psi = (tensor(basis(2,0),basis(2,0)) + tensor(basis(2,1),basis(2,1))).unit()\n",
    "    rho = Qobj(p*(psi*psi.dag()).data+(1-p)*qeye(4).data/4, dims=[[2,2], [2,2]])\n",
    "    A_00 = (qeye(2)+sigmaz())/2\n",
    "    A_10 = (qeye(2)+sigmax())/2\n",
    "    A_20 = (qeye(2)+sigmay())/2\n",
    "\n",
    "    B_00 = (qeye(2)+(sigmaz()+sigmax())/sqrt(2))/2\n",
    "    B_10 = (qeye(2)+(sigmaz()-sigmax())/sqrt(2))/2\n",
    "    B_20 = (qeye(2)+(sigmaz()-sigmay())/sqrt(2))/2\n",
    "    B_30 = (qeye(2)+(sigmaz()+sigmay())/sqrt(2))/2\n",
    "    B_40 = (qeye(2)+(sigmax()-sigmay())/sqrt(2))/2\n",
    "    B_50 = (qeye(2)+(sigmax()+sigmay())/sqrt(2))/2\n",
    "\n",
    "    b = [array([ 1, -1, -1])/sqrt(3),\n",
    "         array([-1, -1,  1])/sqrt(3),\n",
    "         array([ 1,  1,  1])/sqrt(3),\n",
    "         array([-1,  1, -1])/sqrt(3)]\n",
    "    B_6= [(qeye(2)+dp(bj, [sigmax(), sigmay(), sigmaz()]))/4 for bj in b]\n",
    "\n",
    "    probabilities = [expect(tensor(A_00, qeye(2)), rho),\n",
    "                     expect(tensor(A_10, qeye(2)), rho),\n",
    "                     expect(tensor(A_20, qeye(2)), rho),\n",
    " \n",
    "                     expect(tensor(qeye(2), B_00), rho),\n",
    "                     expect(tensor(qeye(2), B_10), rho),\n",
    "                     expect(tensor(qeye(2), B_20), rho),\n",
    "                     expect(tensor(qeye(2), B_30), rho),\n",
    "                     expect(tensor(qeye(2), B_40), rho),\n",
    "                     expect(tensor(qeye(2), B_50), rho),\n",
    "                     expect(tensor(qeye(2), B_6[0]), rho),\n",
    "                     expect(tensor(qeye(2), B_6[1]), rho),\n",
    "                     expect(tensor(qeye(2), B_6[2]), rho),\n",
    "\n",
    "                     expect(tensor(A_00, B_00), rho),\n",
    "                     expect(tensor(A_00, B_10), rho),\n",
    "                     expect(tensor(A_00, B_20), rho),\n",
    "                     expect(tensor(A_00, B_30), rho),\n",
    "                     expect(tensor(A_00, B_40), rho),\n",
    "                     expect(tensor(A_00, B_50), rho),\n",
    "                     expect(tensor(A_00, B_6[0]), rho),\n",
    "                     expect(tensor(A_00, B_6[1]), rho),\n",
    "                     expect(tensor(A_00, B_6[2]), rho),\n",
    "\n",
    "                     expect(tensor(A_10, B_00), rho),\n",
    "                     expect(tensor(A_10, B_10), rho),\n",
    "                     expect(tensor(A_10, B_20), rho),\n",
    "                     expect(tensor(A_10, B_30), rho),\n",
    "                     expect(tensor(A_10, B_40), rho),\n",
    "                     expect(tensor(A_10, B_50), rho),\n",
    "                     expect(tensor(A_10, B_6[0]), rho),\n",
    "                     expect(tensor(A_10, B_6[1]), rho),\n",
    "                     expect(tensor(A_10, B_6[2]), rho),\n",
    "\n",
    "                     expect(tensor(A_20, B_00), rho),\n",
    "                     expect(tensor(A_20, B_10), rho),\n",
    "                     expect(tensor(A_20, B_20), rho),\n",
    "                     expect(tensor(A_20, B_30), rho),\n",
    "                     expect(tensor(A_20, B_40), rho),\n",
    "                     expect(tensor(A_20, B_50), rho),\n",
    "                     expect(tensor(A_20, B_6[0]), rho),\n",
    "                     expect(tensor(A_20, B_6[1]), rho),\n",
    "                     expect(tensor(A_20, B_6[2]), rho)]\n",
    "\n",
    "    return probabilities"
   ]
  },
  {
   "cell_type": "markdown",
   "metadata": {},
   "source": [
    "We formally define the scenario and the projector algebra again. The difference is that in the full-probability picture, the maximum guessing probability may not be extremal. Hence we construct four separate algebras, corresponding to the four outputs."
   ]
  },
  {
   "cell_type": "code",
   "execution_count": 4,
   "metadata": {
    "collapsed": false
   },
   "outputs": [],
   "source": [
    "A_configuration = [2, 2, 2]\n",
    "B_configuration = [2, 2, 2, 2, 2, 2, 4]\n",
    "\n",
    "P_0_A = generate_measurements(A_configuration, 'P_0_A')\n",
    "P_0_B = generate_measurements(B_configuration, 'P_0_B')\n",
    "substitutions1 = projective_measurement_constraints(P_0_A, P_0_B)\n",
    "P_1_A = generate_measurements(A_configuration, 'P_1_A')\n",
    "P_1_B = generate_measurements(B_configuration, 'P_1_B')\n",
    "substitutions2 = projective_measurement_constraints(P_1_A, P_1_B)\n",
    "P_2_A = generate_measurements(A_configuration, 'P_2_A')\n",
    "P_2_B = generate_measurements(B_configuration, 'P_2_B')\n",
    "substitutions3 = projective_measurement_constraints(P_2_A, P_2_B)\n",
    "P_3_A = generate_measurements(A_configuration, 'P_3_A')\n",
    "P_3_B = generate_measurements(B_configuration, 'P_3_B')\n",
    "substitutions4 = projective_measurement_constraints(P_3_A, P_3_B)\n",
    "substitutions = dict(substitutions1.items() + substitutions2.items() +\n",
    "                     substitutions3.items() + substitutions4.items())"
   ]
  },
  {
   "cell_type": "markdown",
   "metadata": {},
   "source": [
    "The guessing probability in this case is the sum of the POVM outcomes. Since we work in the Collins-Gisin notation, the last outcome of a measurement is not included in the algebra. This can easily be constructed by deducting the rest of the operators in a measurement from the identity. This, however, is more complicated here, because each algebra generates a moment matrix, and the top left is not the expectation value with the identity operator. So instead, we will have to include a special variable in the objective function, the top left element of the last moment matrix."
   ]
  },
  {
   "cell_type": "code",
   "execution_count": 5,
   "metadata": {
    "collapsed": true
   },
   "outputs": [],
   "source": [
    "guessing_probability = -(P_0_B[6][0] + P_1_B[6][1] + P_2_B[6][2] + \n",
    "                         (-P_3_B[6][0]-P_3_B[6][1]-P_3_B[6][2]))\n",
    "extraobjexpr=\"-3[0,0]\""
   ]
  },
  {
   "cell_type": "markdown",
   "metadata": {},
   "source": [
    "We do a level 2 relaxation."
   ]
  },
  {
   "cell_type": "code",
   "execution_count": 13,
   "metadata": {
    "collapsed": true
   },
   "outputs": [],
   "source": [
    "level=2\n",
    "sdpRelaxation = SdpRelaxation([flatten([P_0_A, P_0_B]),\n",
    "                               flatten([P_1_A, P_1_B]),\n",
    "                               flatten([P_2_A, P_2_B]),\n",
    "                               flatten([P_3_A, P_3_B])],\n",
    "                               normalized=False)"
   ]
  },
  {
   "cell_type": "markdown",
   "metadata": {},
   "source": [
    "The following function obtains the probabilities and defines the constraint $\\sum_a p_a=p$. It also normalizes the top-left elements of the four moment matrices. On its first call it obtains the relaxation, and in subsequent calls, it simply replaces the constraints and solves the SDP. "
   ]
  },
  {
   "cell_type": "code",
   "execution_count": 14,
   "metadata": {
    "collapsed": true
   },
   "outputs": [],
   "source": [
    "def get_maximum_guessing_probability(p, first=False):\n",
    "    probabilities = joint_probabilities(p)\n",
    "\n",
    "    bounds = []\n",
    "    k=0\n",
    "    #Marginals first\n",
    "    for i in range(3):\n",
    "        bounds.append(P_0_A[i][0]+P_1_A[i][0]+P_2_A[i][0]+P_3_A[i][0]-probabilities[k])\n",
    "        k += 1\n",
    "    for j in range(6):\n",
    "        bounds.append(P_0_B[j][0]+P_1_B[j][0]+P_2_B[j][0]+P_3_B[j][0]-probabilities[k])\n",
    "        k += 1\n",
    "    for j in range(3):\n",
    "        bounds.append(P_0_B[6][j]+P_1_B[6][j]+P_2_B[6][j]+P_3_B[6][j]-probabilities[k])\n",
    "        k += 1\n",
    "\n",
    "    #Joint probabilities\n",
    "    for i in range(3):\n",
    "        for j in range(6):\n",
    "            bounds.append(P_0_A[i][0]*P_0_B[j][0]+P_1_A[i][0]*P_1_B[j][0]+P_2_A[i][0]*P_2_B[j][0]+P_3_A[i][0]*P_3_B[j][0]-probabilities[k])\n",
    "            k += 1\n",
    "        for j in range(3):\n",
    "            bounds.append(P_0_A[i][0]*P_0_B[6][j]+P_1_A[i][0]*P_1_B[6][j]+P_2_A[i][0]*P_2_B[6][j]+P_3_A[i][0]*P_3_B[6][j]-probabilities[k])\n",
    "            k += 1\n",
    "    # The bounds are all inequalities, so we also have to add their negative\n",
    "    # counterparts to force the equalities\n",
    "    bounds.extend([-bound for bound in bounds])\n",
    "    # We need to normalize the top-left elements of the moment matrices\n",
    "    bounds.extend([\"0[0,0]+1[0,0]+2[0,0]+3[0,0]-1\", \"-0[0,0]-1[0,0]-2[0,0]-3[0,0]+1\"])\n",
    "    if first:\n",
    "        sdpRelaxation.get_relaxation(level, objective=guessing_probability,\n",
    "                                     bounds=bounds,\n",
    "                                     substitutions=substitutions,\n",
    "                                     extraobjexpr=extraobjexpr)\n",
    "    else:\n",
    "        sdpRelaxation.process_constraints(bounds=bounds)\n",
    "\n",
    "    primal, dual = solve_sdp(sdpRelaxation)\n",
    "    return -primal"
   ]
  },
  {
   "cell_type": "markdown",
   "metadata": {},
   "source": [
    "We call this function over a range of values to obtain the results. This can take over half an hour to calculate."
   ]
  },
  {
   "cell_type": "code",
   "execution_count": 15,
   "metadata": {
    "collapsed": false
   },
   "outputs": [
    {
     "name": "stdout",
     "output_type": "stream",
     "text": [
      "[0.2993497343227554, 0.4323495242641335, 0.5571038404153698, 0.7655105378305733, 0.8583245046254272, 0.941178160783859, 1.0000001228996722, 1.0000001317411034]\n"
     ]
    }
   ],
   "source": [
    "noise = [1.0, 0.999, 0.99, 0.95, 0.925, 0.9, 0.875, 0.85]\n",
    "sensitivity = [get_maximum_guessing_probability(noise[0], first = True)]\n",
    "for p in noise[1:]:\n",
    "    sensitivity.append(get_maximum_guessing_probability(p))\n",
    "print(sensitivity)"
   ]
  },
  {
   "cell_type": "code",
   "execution_count": 16,
   "metadata": {
    "collapsed": false
   },
   "outputs": [
    {
     "data": {
      "text/plain": [
       "[<matplotlib.lines.Line2D at 0x7f5296f21190>]"
      ]
     },
     "execution_count": 16,
     "metadata": {},
     "output_type": "execute_result"
    },
    {
     "data": {
      "image/png": "[encoded data removed]",
      "text/plain": [
       "<matplotlib.figure.Figure at 0x7f5297556550>"
      ]
     },
     "metadata": {},
     "output_type": "display_data"
    }
   ],
   "source": [
    "%matplotlib inline\n",
    "fig, ax = plt.subplots()\n",
    "plt.plot(noise, sensitivity, linewidth=2)"
   ]
  },
  {
   "cell_type": "markdown",
   "metadata": {},
   "source": [
    "Noise sensitivity of the [(2, 2, 2, 4) (2, 2, 2, 2)] scenario\n",
    "---------------------------------------------------------------------------------\n",
    "The case is very similar to the previous one. First we define the joint probability:"
   ]
  },
  {
   "cell_type": "code",
   "execution_count": 17,
   "metadata": {
    "collapsed": true
   },
   "outputs": [],
   "source": [
    "def joint_probabilities(p):\n",
    "    psi = (tensor(basis(2,0),basis(2,0)) + tensor(basis(2,1),basis(2,1))).unit()\n",
    "    rho = Qobj(p*(psi*psi.dag()).data+(1-p)*qeye(4).data/4, dims=[[2,2], [2,2]])\n",
    "    A_00 = (qeye(2)+sigmaz())/2\n",
    "    A_10 = (qeye(2)+sigmax())/2\n",
    "    A_20 = (qeye(2)+sigmay())/2\n",
    "    sigma = [sigmax(), sigmay(), sigmaz()]\n",
    "    b = [array([ 1, -1, -1])/sqrt(3),\n",
    "         array([-1, -1,  1])/sqrt(3),\n",
    "         array([ 1,  1,  1])/sqrt(3),\n",
    "         array([-1,  1, -1])/sqrt(3)]\n",
    "    A_3 = [(qeye(2)+dp(bj, sigma))/4 for bj in b]\n",
    "\n",
    "    B_00 = (qeye(2)+dp([ 1, -1,  1], sigma)/sqrt(3))/2\n",
    "    B_10 = (qeye(2)+dp([-1,  1,  1], sigma)/sqrt(3))/2\n",
    "    B_20 = (qeye(2)+dp([ 1,  1, -1], sigma)/sqrt(3))/2\n",
    "    B_30 = (qeye(2)+dp([-1, -1, -1], sigma)/sqrt(3))/2\n",
    "\n",
    "    probabilities = [expect(tensor(A_00, qeye(2)), rho),\n",
    "                     expect(tensor(A_10, qeye(2)), rho),\n",
    "                     expect(tensor(A_20, qeye(2)), rho),\n",
    "                     expect(tensor(A_3[0], qeye(2)), rho),\n",
    "                     expect(tensor(A_3[1], qeye(2)), rho),\n",
    "                     expect(tensor(A_3[2], qeye(2)), rho),\n",
    "\n",
    "                     expect(tensor(qeye(2), B_00), rho),\n",
    "                     expect(tensor(qeye(2), B_10), rho),\n",
    "                     expect(tensor(qeye(2), B_20), rho),\n",
    "                     expect(tensor(qeye(2), B_30), rho),\n",
    "\n",
    "                     expect(tensor(A_00, B_00), rho),\n",
    "                     expect(tensor(A_00, B_10), rho),\n",
    "                     expect(tensor(A_00, B_20), rho),\n",
    "                     expect(tensor(A_00, B_30), rho),\n",
    "\n",
    "                     expect(tensor(A_10, B_00), rho),\n",
    "                     expect(tensor(A_10, B_10), rho),\n",
    "                     expect(tensor(A_10, B_20), rho),\n",
    "                     expect(tensor(A_10, B_30), rho),\n",
    "\n",
    "                     expect(tensor(A_20, B_00), rho),\n",
    "                     expect(tensor(A_20, B_10), rho),\n",
    "                     expect(tensor(A_20, B_20), rho),\n",
    "                     expect(tensor(A_20, B_30), rho),\n",
    "\n",
    "                     expect(tensor(A_3[0], B_00), rho),\n",
    "                     expect(tensor(A_3[0], B_10), rho),\n",
    "                     expect(tensor(A_3[0], B_20), rho),\n",
    "                     expect(tensor(A_3[0], B_30), rho),\n",
    "\n",
    "                     expect(tensor(A_3[1], B_00), rho),\n",
    "                     expect(tensor(A_3[1], B_10), rho),\n",
    "                     expect(tensor(A_3[1], B_20), rho),\n",
    "                     expect(tensor(A_3[1], B_30), rho),\n",
    "\n",
    "                     expect(tensor(A_3[2], B_00), rho),\n",
    "                     expect(tensor(A_3[2], B_10), rho),\n",
    "                     expect(tensor(A_3[2], B_20), rho),\n",
    "                     expect(tensor(A_3[2], B_30), rho)]\n",
    "\n",
    "    return probabilities"
   ]
  },
  {
   "cell_type": "markdown",
   "metadata": {},
   "source": [
    "Next we define the algebra, the objective function, and we formally initialize the level-2 relaxation."
   ]
  },
  {
   "cell_type": "code",
   "execution_count": 18,
   "metadata": {
    "collapsed": true
   },
   "outputs": [],
   "source": [
    "A_configuration = [2, 2, 2, 4]\n",
    "B_configuration = [2, 2, 2, 2]\n",
    "P_0_A = generate_measurements(A_configuration, 'P_0_A')\n",
    "P_0_B = generate_measurements(B_configuration, 'P_0_B')\n",
    "substitutions1 = projective_measurement_constraints(P_0_A, P_0_B)\n",
    "P_1_A = generate_measurements(A_configuration, 'P_1_A')\n",
    "P_1_B = generate_measurements(B_configuration, 'P_1_B')\n",
    "substitutions2 = projective_measurement_constraints(P_1_A, P_1_B)\n",
    "P_2_A = generate_measurements(A_configuration, 'P_2_A')\n",
    "P_2_B = generate_measurements(B_configuration, 'P_2_B')\n",
    "substitutions3 = projective_measurement_constraints(P_2_A, P_2_B)\n",
    "P_3_A = generate_measurements(A_configuration, 'P_3_A')\n",
    "P_3_B = generate_measurements(B_configuration, 'P_3_B')\n",
    "substitutions4 = projective_measurement_constraints(P_3_A, P_3_B)\n",
    "substitutions = dict(substitutions1.items() + substitutions2.items() +\n",
    "                     substitutions3.items() + substitutions4.items())\n",
    "guessing_probability = -(P_0_A[3][0] + P_1_A[3][1] + P_2_A[3][2] + (-P_3_A[3][0]-P_3_A[3][1]-P_3_A[3][2]))\n",
    "extraobjexpr=\"-3[0,0]\"\n",
    "level=2\n",
    "sdpRelaxation = SdpRelaxation([flatten([P_0_A, P_0_B]),\n",
    "                               flatten([P_1_A, P_1_B]),\n",
    "                               flatten([P_2_A, P_2_B]),\n",
    "                               flatten([P_3_A, P_3_B])],\n",
    "                               normalized=False)"
   ]
  },
  {
   "cell_type": "markdown",
   "metadata": {},
   "source": [
    "We need to define the function to get the maximum guessing probability again."
   ]
  },
  {
   "cell_type": "code",
   "execution_count": 19,
   "metadata": {
    "collapsed": true
   },
   "outputs": [],
   "source": [
    "def get_maximum_guessing_probability(p, first=False):\n",
    "    probabilities = joint_probabilities(p)\n",
    "\n",
    "    bounds = []\n",
    "    k=0\n",
    "    #Marginals first\n",
    "    for i in range(3):\n",
    "        bounds.append(P_0_A[i][0]+P_1_A[i][0]+P_2_A[i][0]+P_3_A[i][0]-probabilities[k])\n",
    "        k += 1\n",
    "    for j in range(3):\n",
    "        bounds.append(P_0_A[3][j]+P_1_A[3][j]+P_2_A[3][j]+P_3_A[3][j]-probabilities[k])\n",
    "        k += 1\n",
    "    for j in range(4):\n",
    "        bounds.append(P_0_B[j][0]+P_1_B[j][0]+P_2_B[j][0]+P_3_B[j][0]-probabilities[k])\n",
    "        k += 1\n",
    "\n",
    "    #Joint probabilities\n",
    "    for i in range(3):\n",
    "        for j in range(4):\n",
    "            bounds.append(P_0_A[i][0]*P_0_B[j][0]+P_1_A[i][0]*P_1_B[j][0]+P_2_A[i][0]*P_2_B[j][0]+P_3_A[i][0]*P_3_B[j][0]-probabilities[k])\n",
    "            k += 1\n",
    "    for i in range(3):\n",
    "        for j in range(4):\n",
    "            bounds.append(P_0_A[3][i]*P_0_B[j][0]+P_1_A[3][i]*P_1_B[j][0]+P_2_A[3][i]*P_2_B[j][0]+P_3_A[3][i]*P_3_B[j][0]-probabilities[k])\n",
    "            k += 1\n",
    "    # The bounds are all inequalities, so we also have to add their negative\n",
    "    # counterparts to force the equalities\n",
    "    bounds.extend([-bound for bound in bounds])\n",
    "    # We need to normalize the top-left elements of the moment matrices\n",
    "    bounds.extend([\"0[0,0]+1[0,0]+2[0,0]+3[0,0]-1\", \"-0[0,0]-1[0,0]-2[0,0]-3[0,0]+1\"])\n",
    "    if first:\n",
    "        sdpRelaxation.get_relaxation(level, objective=guessing_probability,\n",
    "                                     bounds=bounds,\n",
    "                                     substitutions=substitutions,\n",
    "                                     extraobjexpr=extraobjexpr)\n",
    "    else:\n",
    "        sdpRelaxation.process_constraints(bounds=bounds)\n",
    "\n",
    "    primal, dual = solve_sdp(sdpRelaxation)\n",
    "    return -primal"
   ]
  },
  {
   "cell_type": "markdown",
   "metadata": {},
   "source": [
    "The rest of the solution is identical."
   ]
  },
  {
   "cell_type": "code",
   "execution_count": 20,
   "metadata": {
    "collapsed": false
   },
   "outputs": [
    {
     "name": "stdout",
     "output_type": "stream",
     "text": [
      "[0.2554685918218898, 0.33975489082800414, 0.4919566107394366, 0.7454076795571081, 0.8755871394706972, 1.0000001215838104, 1.0000007698657265, 1.0000004906621798]\n"
     ]
    }
   ],
   "source": [
    "noise = [1.0, 0.999, 0.99, 0.95, 0.925, 0.9, 0.875, 0.85]\n",
    "sensitivity = [get_maximum_guessing_probability(noise[0], first = True)]\n",
    "for p in noise[1:]:\n",
    "    sensitivity.append(get_maximum_guessing_probability(p))\n",
    "print(sensitivity)"
   ]
  },
  {
   "cell_type": "code",
   "execution_count": 21,
   "metadata": {
    "collapsed": false
   },
   "outputs": [
    {
     "data": {
      "text/plain": [
       "[<matplotlib.lines.Line2D at 0x7f529733f450>]"
      ]
     },
     "execution_count": 21,
     "metadata": {},
     "output_type": "execute_result"
    },
    {
     "data": {
      "image/png": "[encoded data removed]",
      "text/plain": [
       "<matplotlib.figure.Figure at 0x7f529755f450>"
      ]
     },
     "metadata": {},
     "output_type": "display_data"
    }
   ],
   "source": [
    "plt.plot(noise, sensitivity, linewidth=2)"
   ]
  },
  {
   "cell_type": "markdown",
   "metadata": {},
   "source": [
    "Global randomness in the [(2, 2, 2, 2, 2, 2, 2, 4) (2, 2, 2, 2, 2, 2, 2, 4)] scenario\n",
    "------------------------------------------------------------------------------------------------------------------\n",
    "For the global randomness, we use a specific Bell inequality, defined by the following matrix in the Collins-Gisin picture:"
   ]
  },
  {
   "cell_type": "code",
   "execution_count": 22,
   "metadata": {
    "collapsed": true
   },
   "outputs": [],
   "source": [
    "delta = 0.0676946837698\n",
    "k = 1.0\n",
    "I= [[      0,          -0.5,      -0.5,      -0.5, -(1+delta)/2, -(1-delta)/2,-(-1+delta)/2,-(-1-delta)/2-k,    0,    0,     0],\n",
    "    [   -0.5,             1,         0,         0,            1,            1,           -1,             -1,    0,    0,     0],\n",
    "    [   -0.5,             0,         1,         0,        delta,       -delta,            0,              0,    0,    0,     0],\n",
    "    [   -0.5,             0,         0,         1,            0,            0,        delta,         -delta,    0,    0,     0],\n",
    "    [  -(1+delta)/2,  delta,         0,         1,            0,            0,            0,              0,   -k,    0,     0],\n",
    "    [  -(1-delta)/2, -delta,         0,         1,            0,            0,            0,              0,    0,   -k,     0],\n",
    "    [  -(-1+delta)/2,     0,     delta,        -1,            0,            0,            0,              0,    0,    0,    -k],\n",
    "    [  -(-1-delta)/2-k,   0,    -delta,        -1,            0,            0,            0,              0,    k,    k,     k],\n",
    "    [      0,             0,         0,         0,           -k,            0,            0,              k,    0,    0,     0],\n",
    "    [      0,             0,         0,         0,            0,           -k,            0,              k,    0,    0,     0],\n",
    "    [      0,             0,         0,         0,            0,            0,           -k,              k,    0,    0,     0]]"
   ]
  },
  {
   "cell_type": "markdown",
   "metadata": {},
   "source": [
    "We obtained the $\\delta$ value by nonconvex optimization. Defining the operators is straightforward:"
   ]
  },
  {
   "cell_type": "code",
   "execution_count": 23,
   "metadata": {
    "collapsed": false
   },
   "outputs": [],
   "source": [
    "A_configuration = [2, 2, 2, 2, 2, 2, 2, 4]\n",
    "B_configuration = [2, 2, 2, 2, 2, 2, 2, 4]\n",
    "A = generate_measurements(A_configuration, 'A')\n",
    "B = generate_measurements(B_configuration, 'B')\n",
    "AB = [Ai*Bj for Ai in flatten(A) for Bj in flatten(B)]\n",
    "substitutions = projective_measurement_constraints(A, B)"
   ]
  },
  {
   "cell_type": "markdown",
   "metadata": {},
   "source": [
    "We impose the maximum violation as a constraint and optimize for the guessing probability. The guessing probability is symmetric for all joint output of the POVM, hence it is enough to look at the first pair."
   ]
  },
  {
   "cell_type": "code",
   "execution_count": 24,
   "metadata": {
    "collapsed": false
   },
   "outputs": [
    {
     "name": "stdout",
     "output_type": "stream",
     "text": [
      "Calculating block structure...\n",
      "Estimated number of SDP variables: 7380\n",
      "Generating moment matrix...\n",
      "Reduced number of SDP variables: 4572\n",
      "\u001b[KProcessing 2/2 constraints...\n",
      "-0.145292760254 -0.139210070958\n"
     ]
    }
   ],
   "source": [
    "level = 1\n",
    "equality = -define_objective_with_I(I, A, B) - ((3.0+8.0*sqrt(1+delta**2)-11)/4+2)\n",
    "sdpRelaxation = SdpRelaxation(flatten([A, B]), verbose=2)\n",
    "sdpRelaxation.get_relaxation(level, substitutions=substitutions, objective = -A[7][0]*B[7][0],\n",
    "                             equalities=[equality], extramonomials = AB)\n",
    "primal, dual = solve_sdp(sdpRelaxation)\n",
    "print primal, dual"
   ]
  },
  {
   "cell_type": "markdown",
   "metadata": {},
   "source": [
    "The gap between the primal and dual solution is large. Solving the above SDP with SeDuMi provides a smaller gap with the value reported in the manuscript. Exporting the SDP is done with the following command:"
   ]
  },
  {
   "cell_type": "code",
   "execution_count": 25,
   "metadata": {
    "collapsed": false
   },
   "outputs": [],
   "source": [
    "write_to_sdpa(sdpRelaxation, \"global_randomness.dat-s\")"
   ]
  },
  {
   "cell_type": "markdown",
   "metadata": {},
   "source": [
    "References\n",
    "-----------\n",
    "[1] Gisin, N. [Bell inequalities: Many questions, a few answers](http://arxiv.org/abs/quant-ph/0702021). *Quantum Reality, Relativistic Causality, and Closing the Epistemic Circle*, Springer Netherlands, 2009, 73, 125--138.\n",
    "\n",
    "[2] Collins, D. & Gisin, N. [A relevant two qubit Bell inequality inequivalent to the CHSH inequality](http://arxiv.org/abs/quant-ph/0306129). *Journal of Physics A: Mathematical and General*, IOP Publishing, 2004, 37, 1775.\n",
    "\n",
    "[3] Nieto-Silleras, O.; Pironio, S. & Silman, J. [Using complete measurement statistics for optimal device-independent randomness evaluation](http://arxiv.org/abs/1309.3930). *New Journal of Physics*, 2014, 16, 013035."
   ]
  }
 ],
 "metadata": {
  "kernelspec": {
   "display_name": "Python 2",
   "language": "python",
   "name": "python2"
  },
  "language_info": {
   "codemirror_mode": {
    "name": "ipython",
    "version": 2
   },
   "file_extension": ".py",
   "mimetype": "text/x-python",
   "name": "python",
   "nbconvert_exporter": "python",
   "pygments_lexer": "ipython2",
   "version": "2.7.9"
  }
 },
 "nbformat": 4,
 "nbformat_minor": 0
}

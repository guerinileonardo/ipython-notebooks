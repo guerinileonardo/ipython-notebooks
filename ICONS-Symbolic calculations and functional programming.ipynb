{
 "cells": [
  {
   "cell_type": "markdown",
   "metadata": {},
   "source": [
    "Symbolic operations\n",
    "-------------------\n",
    "First, let us bypass the debate over Python 2 and 3 by forcing us to write code that functions identically in either version:"
   ]
  },
  {
   "cell_type": "code",
   "execution_count": 1,
   "metadata": {
    "collapsed": true
   },
   "outputs": [],
   "source": [
    "from __future__ import print_function, division"
   ]
  },
  {
   "cell_type": "markdown",
   "metadata": {},
   "source": [
    "We also want nicely formatted output:"
   ]
  },
  {
   "cell_type": "code",
   "execution_count": 2,
   "metadata": {
    "collapsed": true
   },
   "outputs": [],
   "source": [
    "from sympy.interactive import printing\n",
    "printing.init_printing(use_latex='mathjax')"
   ]
  },
  {
   "cell_type": "markdown",
   "metadata": {},
   "source": [
    "Then we bulk-import everything we might need:"
   ]
  },
  {
   "cell_type": "code",
   "execution_count": 3,
   "metadata": {
    "collapsed": true
   },
   "outputs": [],
   "source": [
    "from sympy import *"
   ]
  },
  {
   "cell_type": "markdown",
   "metadata": {},
   "source": [
    "We define some symbols:"
   ]
  },
  {
   "cell_type": "code",
   "execution_count": 4,
   "metadata": {
    "collapsed": true
   },
   "outputs": [],
   "source": [
    "x, y = symbols('x y')"
   ]
  },
  {
   "cell_type": "code",
   "execution_count": 5,
   "metadata": {
    "collapsed": false
   },
   "outputs": [
    {
     "data": {
      "text/latex": [
       "$$\\frac{\\sin{\\left (\\pi x \\right )}}{\\cos{\\left (\\pi y \\right )}}$$"
      ],
      "text/plain": [
       "sin(π⋅x)\n",
       "────────\n",
       "cos(π⋅y)"
      ]
     },
     "execution_count": 5,
     "metadata": {},
     "output_type": "execute_result"
    }
   ],
   "source": [
    "sin(pi*x)/cos(pi*y)"
   ]
  },
  {
   "cell_type": "markdown",
   "metadata": {},
   "source": [
    "It renders nicely as $\\frac{\\sin\\pi x}{\\cos\\pi x}$. Now a symbolic integral:"
   ]
  },
  {
   "cell_type": "code",
   "execution_count": 6,
   "metadata": {
    "collapsed": false
   },
   "outputs": [
    {
     "data": {
      "text/latex": [
       "$$\\pi \\begin{cases} 0 & \\text{for}\\: y = 0 \\\\- \\frac{1}{y} \\cos{\\left (x y \\right )} & \\text{otherwise} \\end{cases}$$"
      ],
      "text/plain": [
       "  ⎛⎧    0       for y = 0⎞\n",
       "  ⎜⎪                     ⎟\n",
       "π⋅⎜⎨-cos(x⋅y)            ⎟\n",
       "  ⎜⎪──────────  otherwise⎟\n",
       "  ⎝⎩    y                ⎠"
      ]
     },
     "execution_count": 6,
     "metadata": {},
     "output_type": "execute_result"
    }
   ],
   "source": [
    "integrate(pi*sin(x*y), x)"
   ]
  },
  {
   "cell_type": "markdown",
   "metadata": {},
   "source": [
    "Evaluate this for a particular value of x and y:"
   ]
  },
  {
   "cell_type": "code",
   "execution_count": 9,
   "metadata": {
    "collapsed": false
   },
   "outputs": [
    {
     "data": {
      "text/latex": [
       "$$\\pi$$"
      ],
      "text/plain": [
       "π"
      ]
     },
     "execution_count": 9,
     "metadata": {},
     "output_type": "execute_result"
    }
   ],
   "source": [
    "integrate(pi*sin(x*y), x).subs([(x, pi), (y, 1)])"
   ]
  },
  {
   "cell_type": "markdown",
   "metadata": {},
   "source": [
    "SymPy, just like Mathematica, keeps results symbolic as long as possible. If you want a numerical result, you specifically have to request it:"
   ]
  },
  {
   "cell_type": "code",
   "execution_count": 25,
   "metadata": {
    "collapsed": false
   },
   "outputs": [
    {
     "data": {
      "text/latex": [
       "$$3.14159265358979$$"
      ],
      "text/plain": [
       "3.14159265358979"
      ]
     },
     "execution_count": 25,
     "metadata": {},
     "output_type": "execute_result"
    }
   ],
   "source": [
    "N(integrate(pi*sin(x*y), x).subs([(x, pi), (y, 1)]))"
   ]
  },
  {
   "cell_type": "markdown",
   "metadata": {},
   "source": [
    "The quantum physics module is especially helpful. The noncommutative algebra is better than the respective package in Mathematica, especially when it comes to non-Hermitian variables:"
   ]
  },
  {
   "cell_type": "code",
   "execution_count": 7,
   "metadata": {
    "collapsed": false
   },
   "outputs": [
    {
     "data": {
      "text/latex": [
       "$$Y^{\\dagger} X$$"
      ],
      "text/plain": [
       " †  \n",
       "Y ⋅X"
      ]
     },
     "execution_count": 7,
     "metadata": {},
     "output_type": "execute_result"
    }
   ],
   "source": [
    "from sympy.physics.quantum import *\n",
    "X = HermitianOperator('X')\n",
    "Y = Operator('Y')\n",
    "Dagger(X*Y)"
   ]
  },
  {
   "cell_type": "markdown",
   "metadata": {},
   "source": [
    "We can easily define Hamiltonians. For instance, the Hubbard model on a chain is as follows:"
   ]
  },
  {
   "cell_type": "code",
   "execution_count": 31,
   "metadata": {
    "collapsed": false
   },
   "outputs": [
    {
     "data": {
      "text/latex": [
       "$$- 1.0 c_{1 d}^{\\dagger} c_{2 d} + 4.0 c_{1 u}^{\\dagger} c_{1 u} c_{1 d}^{\\dagger} c_{1 d} - 1.0 c_{1 u}^{\\dagger} c_{2 u} - 1.0 c_{2 d}^{\\dagger} c_{1 d} - 1.0 c_{2 u}^{\\dagger} c_{1 u} + 4.0 c_{2 u}^{\\dagger} c_{2 u} c_{2 d}^{\\dagger} c_{2 d}$$"
      ],
      "text/plain": [
       "              †                 †           †                    †            \n",
       "- - -1.0⋅c_1_d ⋅c_2_d + 4.0⋅c₁ ᵤ ⋅c₁ ᵤ⋅c_1_d ⋅c_1_d - - -1.0⋅c₁ ᵤ ⋅c₂ ᵤ - - -1\n",
       "\n",
       "        †                    †                †           †      \n",
       ".0⋅c_2_d ⋅c_1_d - - -1.0⋅c₂ ᵤ ⋅c₁ ᵤ + 4.0⋅c₂ ᵤ ⋅c₂ ᵤ⋅c_2_d ⋅c_2_d"
      ]
     },
     "execution_count": 31,
     "metadata": {},
     "output_type": "execute_result"
    }
   ],
   "source": [
    "t = 1.0\n",
    "U = 4.0\n",
    "n_sites = 2\n",
    "cu = [Operator(\"%s_%s_u\" % (\"c\", i + 1)) for i in range(n_sites)]\n",
    "cd = [Operator(\"%s_%s_d\" % (\"c\", i + 1)) for i in range(n_sites)]\n",
    "hamiltonian = sum(U*Dagger(cu[r])*cu[r]*Dagger(cd[r])*cd[r] for r in range(n_sites))\n",
    "hamiltonian += sum(-t*(Dagger(cu[r])*cu[r+1]+Dagger(cu[r+1])*cu[r]\n",
    "                       +Dagger(cd[r])*cd[r+1]+Dagger(cd[r+1])*cd[r]) for r in range(n_sites-1))\n",
    "expand(hamiltonian)"
   ]
  },
  {
   "cell_type": "markdown",
   "metadata": {},
   "source": [
    "Functional programming\n",
    "----------------------"
   ]
  },
  {
   "cell_type": "markdown",
   "metadata": {},
   "source": [
    "Python was retrofitted with some elements of functional programming. It nevertheless remains an object-oriented language, but it is highly opportunistic. This approach is a lot like Mathematica, which is quintessentially functional, but you can follow any programming paradigm when using it.\n",
    "\n",
    "List comprehensions are probably the most used construct in Python from functional programming. In fact, it is considered a Pythonesque way of doing things. It is a quick way of generating transformed lists from other lists: list comprehension is a simple map function in disguise."
   ]
  },
  {
   "cell_type": "code",
   "execution_count": 22,
   "metadata": {
    "collapsed": false
   },
   "outputs": [
    {
     "data": {
      "text/latex": [
       "$$\\left [ 0, \\quad 1, \\quad 4, \\quad 9, \\quad 16\\right ]$$"
      ],
      "text/plain": [
       "[0, 1, 4, 9, 16]"
      ]
     },
     "execution_count": 22,
     "metadata": {},
     "output_type": "execute_result"
    }
   ],
   "source": [
    "[i**2 for i in range(5)]"
   ]
  },
  {
   "cell_type": "markdown",
   "metadata": {},
   "source": [
    "The variable inside the list comprehension is similar to a pure function and we can have arbitrary number of them:"
   ]
  },
  {
   "cell_type": "code",
   "execution_count": 26,
   "metadata": {
    "collapsed": false
   },
   "outputs": [
    {
     "data": {
      "text/latex": [
       "$$\\left [ 1, \\quad 2, \\quad 3, \\quad 2, \\quad 4, \\quad 6, \\quad 3, \\quad 6, \\quad 9\\right ]$$"
      ],
      "text/plain": [
       "[1, 2, 3, 2, 4, 6, 3, 6, 9]"
      ]
     },
     "execution_count": 26,
     "metadata": {},
     "output_type": "execute_result"
    }
   ],
   "source": [
    "[i*j for i in range(1, 4) for j in range(1, 4)]"
   ]
  },
  {
   "cell_type": "markdown",
   "metadata": {},
   "source": [
    "We can also include conditionals in the list comprehension:"
   ]
  },
  {
   "cell_type": "code",
   "execution_count": 27,
   "metadata": {
    "collapsed": false
   },
   "outputs": [
    {
     "data": {
      "text/latex": [
       "$$\\left [ 0, \\quad 3, \\quad 6, \\quad 9, \\quad 12, \\quad 15, \\quad 18, \\quad 21, \\quad 24, \\quad 27\\right ]$$"
      ],
      "text/plain": [
       "[0, 3, 6, 9, 12, 15, 18, 21, 24, 27]"
      ]
     },
     "execution_count": 27,
     "metadata": {},
     "output_type": "execute_result"
    }
   ],
   "source": [
    "[i for i in range(30) if i%3 == 0]"
   ]
  },
  {
   "cell_type": "markdown",
   "metadata": {},
   "source": [
    "It is easy to emulate ``MapIndex``:"
   ]
  },
  {
   "cell_type": "code",
   "execution_count": 29,
   "metadata": {
    "collapsed": false
   },
   "outputs": [
    {
     "data": {
      "text/latex": [
       "$$\\left [ \\left [ \\sqrt{2}, \\quad 0\\right ], \\quad \\left [ \\pi, \\quad 1\\right ], \\quad \\left [ x, \\quad 2\\right ]\\right ]$$"
      ],
      "text/plain": [
       "⎡⎡  ___   ⎤                ⎤\n",
       "⎣⎣╲╱ 2 , 0⎦, [π, 1], [x, 2]⎦"
      ]
     },
     "execution_count": 29,
     "metadata": {},
     "output_type": "execute_result"
    }
   ],
   "source": [
    "[[a, i] for i, a in enumerate([sqrt(2), pi, x])]"
   ]
  },
  {
   "cell_type": "markdown",
   "metadata": {},
   "source": [
    "Actual pure functions are a bit clunky. We need to declare them as lambda functions. A map operation would look like the following:"
   ]
  },
  {
   "cell_type": "code",
   "execution_count": 31,
   "metadata": {
    "collapsed": false
   },
   "outputs": [
    {
     "data": {
      "text/plain": [
       "[True, False, False, False, False, True, False, False, False, False]"
      ]
     },
     "execution_count": 31,
     "metadata": {},
     "output_type": "execute_result"
    }
   ],
   "source": [
    "map(lambda k: k%5 == 0, range(10))"
   ]
  },
  {
   "cell_type": "markdown",
   "metadata": {},
   "source": [
    "The ``map`` function is actually outdated. It returns a list, whereas list comprehensions return iterators. Iterators are essentially generating functions for list and they are very important to functional programming in Python. Iterators have a ``next()`` function to retrieve subsequent elements, making them very easy to loop over. For instance:"
   ]
  },
  {
   "cell_type": "code",
   "execution_count": 16,
   "metadata": {
    "collapsed": false
   },
   "outputs": [
    {
     "data": {
      "text/latex": [
       "$$1$$"
      ],
      "text/plain": [
       "1"
      ]
     },
     "execution_count": 16,
     "metadata": {},
     "output_type": "execute_result"
    }
   ],
   "source": [
    "l = iter([1, 2, 3])\n",
    "next(l)"
   ]
  },
  {
   "cell_type": "markdown",
   "metadata": {},
   "source": [
    "This is, of course, not very useful, as we could have just used the list itself. List comprehensions are a more sensible way of getting iterators. Another way of creating an iterator is by defining a function that returns values through ``yield`` rather than through ``return``. This allows an internal state for the function and lets it continue where it left it off. For example:"
   ]
  },
  {
   "cell_type": "code",
   "execution_count": 17,
   "metadata": {
    "collapsed": true
   },
   "outputs": [],
   "source": [
    "def squares(N):\n",
    "    for i in range(N):\n",
    "        yield(i**2)"
   ]
  },
  {
   "cell_type": "code",
   "execution_count": 19,
   "metadata": {
    "collapsed": false
   },
   "outputs": [
    {
     "name": "stdout",
     "output_type": "stream",
     "text": [
      "0\n",
      "1\n",
      "4\n",
      "9\n",
      "16\n"
     ]
    }
   ],
   "source": [
    "for j in squares(5):\n",
    "    print(j)"
   ]
  },
  {
   "cell_type": "markdown",
   "metadata": {},
   "source": [
    "There is no shortage of useful examples for using iterators. Take combinatoric functions, for instance:"
   ]
  },
  {
   "cell_type": "code",
   "execution_count": 24,
   "metadata": {
    "collapsed": false
   },
   "outputs": [
    {
     "name": "stdout",
     "output_type": "stream",
     "text": [
      "(1, 2)\n",
      "(1, 3)\n",
      "(1, 4)\n",
      "(1, 5)\n",
      "(2, 3)\n",
      "(2, 4)\n",
      "(2, 5)\n",
      "(3, 4)\n",
      "(3, 5)\n",
      "(4, 5)\n"
     ]
    }
   ],
   "source": [
    "import itertools\n",
    "for combination in itertools.combinations([1, 2, 3, 4, 5], 2):\n",
    "    print(combination)"
   ]
  }
 ],
 "metadata": {
  "kernelspec": {
   "display_name": "Python 3",
   "language": "python",
   "name": "python3"
  },
  "language_info": {
   "codemirror_mode": {
    "name": "ipython",
    "version": 3
   },
   "file_extension": ".py",
   "mimetype": "text/x-python",
   "name": "python",
   "nbconvert_exporter": "python",
   "pygments_lexer": "ipython3",
   "version": "3.4.3"
  }
 },
 "nbformat": 4,
 "nbformat_minor": 0
}

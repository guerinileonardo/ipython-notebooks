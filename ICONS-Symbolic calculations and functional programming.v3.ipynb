{
 "metadata": {
  "kernelspec": {
   "display_name": "Python 3",
   "language": "python",
   "name": "python3"
  },
  "language_info": {
   "codemirror_mode": {
    "name": "ipython",
    "version": 3
   },
   "file_extension": ".py",
   "mimetype": "text/x-python",
   "name": "python",
   "nbconvert_exporter": "python",
   "pygments_lexer": "ipython3",
   "version": "3.4.3"
  },
  "name": ""
 },
 "nbformat": 3,
 "nbformat_minor": 0,
 "worksheets": [
  {
   "cells": [
    {
     "cell_type": "markdown",
     "metadata": {},
     "source": [
      "The notebook interface\n",
      "------------------------------\n",
      "The IPython -- being rebranded as Jupyter -- notebook interface is becoming a standard for a number of languages other than Python: [Julia](https://github.com/mattpap/IScala), [Scala](https://github.com/mattpap/IScala), [R](https://github.com/takluyver/IRkernel), [Haskell](https://github.com/gibiansky/IHaskell), [bash](https://github.com/takluyver/bash_kernel) are all getting their kernels in IPython. Since Python allows you to call MATLAB anyway, you can also use the [notebook interface for MATLAB](http://arokem.github.io/python-matlab-bridge/) if you wish so.\n",
      "\n",
      "Many features of IPython are independent of the underlying language. The so-called magic functions make it extremely powerful. This are prefixed by a percentage sign. For a quick reference, try"
     ]
    },
    {
     "cell_type": "code",
     "collapsed": true,
     "input": [
      "%quickref"
     ],
     "language": "python",
     "metadata": {},
     "outputs": [],
     "prompt_number": 1
    },
    {
     "cell_type": "markdown",
     "metadata": {},
     "source": [
      "For instance, you can benchmark the speed of a function:"
     ]
    },
    {
     "cell_type": "code",
     "collapsed": false,
     "input": [
      "%timeit range(1000000)"
     ],
     "language": "python",
     "metadata": {},
     "outputs": [
      {
       "output_type": "stream",
       "stream": "stdout",
       "text": [
        "The slowest run took 4.40 times longer than the fastest. This could mean that an intermediate result is being cached \n",
        "1000000 loops, best of 3: 260 ns per loop\n"
       ]
      }
     ],
     "prompt_number": 2
    },
    {
     "cell_type": "markdown",
     "metadata": {},
     "source": [
      "You also have direct access to the operating system calls:"
     ]
    },
    {
     "cell_type": "code",
     "collapsed": false,
     "input": [
      "!uname -a"
     ],
     "language": "python",
     "metadata": {},
     "outputs": [
      {
       "output_type": "stream",
       "stream": "stdout",
       "text": [
        "Linux localhost 3.17.3-1-ARCH #1 SMP PREEMPT Fri Nov 14 23:13:48 CET 2014 x86_64 GNU/Linux\r\n"
       ]
      }
     ],
     "prompt_number": 13
    },
    {
     "cell_type": "markdown",
     "metadata": {},
     "source": [
      "You can, of course, always access the result of the previous command:"
     ]
    },
    {
     "cell_type": "code",
     "collapsed": false,
     "input": [
      "print(_)"
     ],
     "language": "python",
     "metadata": {},
     "outputs": [
      {
       "output_type": "stream",
       "stream": "stdout",
       "text": [
        "['Linux localhost 3.17.3-1-ARCH #1 SMP PREEMPT Fri Nov 14 23:13:48 CET 2014 x86_64 GNU/Linux']\n"
       ]
      }
     ],
     "prompt_number": 14
    },
    {
     "cell_type": "markdown",
     "metadata": {},
     "source": [
      "Some other cool features to explore: LaTeX export of notebooks with support for Bibtex -- also works for HTML -- and launching parallel computations in Python interpreters distributed across a cluster."
     ]
    },
    {
     "cell_type": "markdown",
     "metadata": {},
     "source": [
      "Symbolic operations\n",
      "-------------------------\n",
      "First, let us bypass the debate over Python 2 and 3 by forcing us to write code that functions identically in either version:"
     ]
    },
    {
     "cell_type": "code",
     "collapsed": true,
     "input": [
      "from __future__ import print_function, division"
     ],
     "language": "python",
     "metadata": {},
     "outputs": [],
     "prompt_number": 15
    },
    {
     "cell_type": "markdown",
     "metadata": {},
     "source": [
      "We also want nicely formatted output:"
     ]
    },
    {
     "cell_type": "code",
     "collapsed": true,
     "input": [
      "from sympy.interactive import printing\n",
      "printing.init_printing(use_latex='mathjax')"
     ],
     "language": "python",
     "metadata": {},
     "outputs": [],
     "prompt_number": 2
    },
    {
     "cell_type": "markdown",
     "metadata": {},
     "source": [
      "Then we bulk-import everything we might need:"
     ]
    },
    {
     "cell_type": "code",
     "collapsed": true,
     "input": [
      "from sympy import *"
     ],
     "language": "python",
     "metadata": {},
     "outputs": [],
     "prompt_number": 3
    },
    {
     "cell_type": "markdown",
     "metadata": {},
     "source": [
      "We define some symbols:"
     ]
    },
    {
     "cell_type": "code",
     "collapsed": true,
     "input": [
      "x, y = symbols('x y')"
     ],
     "language": "python",
     "metadata": {},
     "outputs": [],
     "prompt_number": 4
    },
    {
     "cell_type": "code",
     "collapsed": false,
     "input": [
      "sin(pi*x)/cos(pi*y)"
     ],
     "language": "python",
     "metadata": {},
     "outputs": [
      {
       "latex": [
        "$$\\frac{\\sin{\\left (\\pi x \\right )}}{\\cos{\\left (\\pi y \\right )}}$$"
       ],
       "metadata": {},
       "output_type": "pyout",
       "prompt_number": 5,
       "text": [
        "sin(\u03c0\u22c5x)\n",
        "\u2500\u2500\u2500\u2500\u2500\u2500\u2500\u2500\n",
        "cos(\u03c0\u22c5y)"
       ]
      }
     ],
     "prompt_number": 5
    },
    {
     "cell_type": "markdown",
     "metadata": {},
     "source": [
      "It renders nicely as $\\frac{\\sin\\pi x}{\\cos\\pi x}$. Now a symbolic integral:"
     ]
    },
    {
     "cell_type": "code",
     "collapsed": false,
     "input": [
      "integrate(pi*sin(x*y), x)"
     ],
     "language": "python",
     "metadata": {},
     "outputs": [
      {
       "latex": [
        "$$\\pi \\begin{cases} 0 & \\text{for}\\: y = 0 \\\\- \\frac{1}{y} \\cos{\\left (x y \\right )} & \\text{otherwise} \\end{cases}$$"
       ],
       "metadata": {},
       "output_type": "pyout",
       "prompt_number": 6,
       "text": [
        "  \u239b\u23a7    0       for y = 0\u239e\n",
        "  \u239c\u23aa                     \u239f\n",
        "\u03c0\u22c5\u239c\u23a8-cos(x\u22c5y)            \u239f\n",
        "  \u239c\u23aa\u2500\u2500\u2500\u2500\u2500\u2500\u2500\u2500\u2500\u2500  otherwise\u239f\n",
        "  \u239d\u23a9    y                \u23a0"
       ]
      }
     ],
     "prompt_number": 6
    },
    {
     "cell_type": "markdown",
     "metadata": {},
     "source": [
      "Evaluate this for a particular value of x and y:"
     ]
    },
    {
     "cell_type": "code",
     "collapsed": false,
     "input": [
      "integrate(pi*sin(x*y), x).subs([(x, pi), (y, 1)])"
     ],
     "language": "python",
     "metadata": {},
     "outputs": [
      {
       "latex": [
        "$$\\pi$$"
       ],
       "metadata": {},
       "output_type": "pyout",
       "prompt_number": 9,
       "text": [
        "\u03c0"
       ]
      }
     ],
     "prompt_number": 9
    },
    {
     "cell_type": "markdown",
     "metadata": {},
     "source": [
      "SymPy, just like Mathematica, keeps results symbolic as long as possible. If you want a numerical result, you specifically have to request it:"
     ]
    },
    {
     "cell_type": "code",
     "collapsed": false,
     "input": [
      "N(integrate(pi*sin(x*y), x).subs([(x, pi), (y, 1)]))"
     ],
     "language": "python",
     "metadata": {},
     "outputs": [
      {
       "latex": [
        "$$3.14159265358979$$"
       ],
       "metadata": {},
       "output_type": "pyout",
       "prompt_number": 25,
       "text": [
        "3.14159265358979"
       ]
      }
     ],
     "prompt_number": 25
    },
    {
     "cell_type": "markdown",
     "metadata": {},
     "source": [
      "The quantum physics module is especially helpful. The noncommutative algebra is better than the respective package in Mathematica, especially when it comes to non-Hermitian variables:"
     ]
    },
    {
     "cell_type": "code",
     "collapsed": false,
     "input": [
      "from sympy.physics.quantum import *\n",
      "X = HermitianOperator('X')\n",
      "Y = Operator('Y')\n",
      "Dagger(X*Y)"
     ],
     "language": "python",
     "metadata": {},
     "outputs": [
      {
       "latex": [
        "$$Y^{\\dagger} X$$"
       ],
       "metadata": {},
       "output_type": "pyout",
       "prompt_number": 7,
       "text": [
        " \u2020  \n",
        "Y \u22c5X"
       ]
      }
     ],
     "prompt_number": 7
    },
    {
     "cell_type": "markdown",
     "metadata": {},
     "source": [
      "We can easily define Hamiltonians. For instance, the Hubbard model on a chain is as follows:"
     ]
    },
    {
     "cell_type": "code",
     "collapsed": false,
     "input": [
      "t = 1.0\n",
      "U = 4.0\n",
      "n_sites = 2\n",
      "cu = [Operator(\"%s_%s_u\" % (\"c\", i + 1)) for i in range(n_sites)]\n",
      "cd = [Operator(\"%s_%s_d\" % (\"c\", i + 1)) for i in range(n_sites)]\n",
      "hamiltonian = sum(U*Dagger(cu[r])*cu[r]*Dagger(cd[r])*cd[r] for r in range(n_sites))\n",
      "hamiltonian += sum(-t*(Dagger(cu[r])*cu[r+1]+Dagger(cu[r+1])*cu[r]\n",
      "                       +Dagger(cd[r])*cd[r+1]+Dagger(cd[r+1])*cd[r]) for r in range(n_sites-1))\n",
      "expand(hamiltonian)"
     ],
     "language": "python",
     "metadata": {},
     "outputs": [
      {
       "latex": [
        "$$- 1.0 c_{1 d}^{\\dagger} c_{2 d} + 4.0 c_{1 u}^{\\dagger} c_{1 u} c_{1 d}^{\\dagger} c_{1 d} - 1.0 c_{1 u}^{\\dagger} c_{2 u} - 1.0 c_{2 d}^{\\dagger} c_{1 d} - 1.0 c_{2 u}^{\\dagger} c_{1 u} + 4.0 c_{2 u}^{\\dagger} c_{2 u} c_{2 d}^{\\dagger} c_{2 d}$$"
       ],
       "metadata": {},
       "output_type": "pyout",
       "prompt_number": 31,
       "text": [
        "              \u2020                 \u2020           \u2020                    \u2020            \n",
        "- - -1.0\u22c5c_1_d \u22c5c_2_d + 4.0\u22c5c\u2081 \u1d64 \u22c5c\u2081 \u1d64\u22c5c_1_d \u22c5c_1_d - - -1.0\u22c5c\u2081 \u1d64 \u22c5c\u2082 \u1d64 - - -1\n",
        "\n",
        "        \u2020                    \u2020                \u2020           \u2020      \n",
        ".0\u22c5c_2_d \u22c5c_1_d - - -1.0\u22c5c\u2082 \u1d64 \u22c5c\u2081 \u1d64 + 4.0\u22c5c\u2082 \u1d64 \u22c5c\u2082 \u1d64\u22c5c_2_d \u22c5c_2_d"
       ]
      }
     ],
     "prompt_number": 31
    },
    {
     "cell_type": "markdown",
     "metadata": {},
     "source": [
      "List comprehensions\n",
      "-------------------------\n",
      "Python was retrofitted with some elements of functional programming, mainly building on ideas coming from Haskell. It nevertheless remains an object-oriented language, but it is highly opportunistic. This approach is a lot like Mathematica, which is quintessentially functional, but you can follow any programming paradigm when using it.\n",
      "\n",
      "List comprehensions are probably the most used construct in Python from functional programming. In fact, it is considered a Pythonesque way of doing things. It is a quick way of generating transformed lists from other lists: list comprehension is a simple map function in disguise."
     ]
    },
    {
     "cell_type": "code",
     "collapsed": false,
     "input": [
      "[i**2 for i in range(5)]"
     ],
     "language": "python",
     "metadata": {},
     "outputs": [
      {
       "latex": [
        "$$\\left [ 0, \\quad 1, \\quad 4, \\quad 9, \\quad 16\\right ]$$"
       ],
       "metadata": {},
       "output_type": "pyout",
       "prompt_number": 22,
       "text": [
        "[0, 1, 4, 9, 16]"
       ]
      }
     ],
     "prompt_number": 22
    },
    {
     "cell_type": "markdown",
     "metadata": {},
     "source": [
      "The expression on the left inside the list comprehension is similar to a pure function and we can have more complex forms:"
     ]
    },
    {
     "cell_type": "code",
     "collapsed": false,
     "input": [
      "[i*j for i in range(1, 4) for j in range(1, 4)]"
     ],
     "language": "python",
     "metadata": {},
     "outputs": [
      {
       "latex": [
        "$$\\left [ 1, \\quad 2, \\quad 3, \\quad 2, \\quad 4, \\quad 6, \\quad 3, \\quad 6, \\quad 9\\right ]$$"
       ],
       "metadata": {},
       "output_type": "pyout",
       "prompt_number": 26,
       "text": [
        "[1, 2, 3, 2, 4, 6, 3, 6, 9]"
       ]
      }
     ],
     "prompt_number": 26
    },
    {
     "cell_type": "markdown",
     "metadata": {},
     "source": [
      "We can also include conditionals in the list comprehension:"
     ]
    },
    {
     "cell_type": "code",
     "collapsed": false,
     "input": [
      "[i for i in range(30) if i%3 == 0]"
     ],
     "language": "python",
     "metadata": {},
     "outputs": [
      {
       "latex": [
        "$$\\left [ 0, \\quad 3, \\quad 6, \\quad 9, \\quad 12, \\quad 15, \\quad 18, \\quad 21, \\quad 24, \\quad 27\\right ]$$"
       ],
       "metadata": {},
       "output_type": "pyout",
       "prompt_number": 27,
       "text": [
        "[0, 3, 6, 9, 12, 15, 18, 21, 24, 27]"
       ]
      }
     ],
     "prompt_number": 27
    },
    {
     "cell_type": "markdown",
     "metadata": {},
     "source": [
      "It is easy to emulate the ``MapIndex`` function of Mathematica:"
     ]
    },
    {
     "cell_type": "code",
     "collapsed": false,
     "input": [
      "[[a, i] for i, a in enumerate([sqrt(2), pi, x])]"
     ],
     "language": "python",
     "metadata": {},
     "outputs": [
      {
       "latex": [
        "$$\\left [ \\left [ \\sqrt{2}, \\quad 0\\right ], \\quad \\left [ \\pi, \\quad 1\\right ], \\quad \\left [ x, \\quad 2\\right ]\\right ]$$"
       ],
       "metadata": {},
       "output_type": "pyout",
       "prompt_number": 29,
       "text": [
        "\u23a1\u23a1  ___   \u23a4                \u23a4\n",
        "\u23a3\u23a3\u2572\u2571 2 , 0\u23a6, [\u03c0, 1], [x, 2]\u23a6"
       ]
      }
     ],
     "prompt_number": 29
    },
    {
     "cell_type": "markdown",
     "metadata": {},
     "source": [
      "List comprehension does not actually return a list, it returns an iterator. Iterators are essentially generating functions for list and they are very important to functional programming in Python. Iterators have a ``next()`` function to retrieve subsequent elements, making them very easy to loop over. For instance:"
     ]
    },
    {
     "cell_type": "code",
     "collapsed": false,
     "input": [
      "l = iter([1, 2, 3])\n",
      "next(l)"
     ],
     "language": "python",
     "metadata": {},
     "outputs": [
      {
       "latex": [
        "$$1$$"
       ],
       "metadata": {},
       "output_type": "pyout",
       "prompt_number": 16,
       "text": [
        "1"
       ]
      }
     ],
     "prompt_number": 16
    },
    {
     "cell_type": "markdown",
     "metadata": {},
     "source": [
      "This is, of course, not very useful, as we could have just used the list itself. List comprehensions are a more sensible way of getting iterators. Another way of creating an iterator is by defining a function that returns values through ``yield`` rather than through ``return``. This allows an internal state for the function and lets it continue where it left it off. For example:"
     ]
    },
    {
     "cell_type": "code",
     "collapsed": true,
     "input": [
      "def squares(N):\n",
      "    for i in range(N):\n",
      "        yield(i**2)"
     ],
     "language": "python",
     "metadata": {},
     "outputs": [],
     "prompt_number": 17
    },
    {
     "cell_type": "code",
     "collapsed": false,
     "input": [
      "for j in squares(5):\n",
      "    print(j)"
     ],
     "language": "python",
     "metadata": {},
     "outputs": [
      {
       "output_type": "stream",
       "stream": "stdout",
       "text": [
        "0\n",
        "1\n",
        "4\n",
        "9\n",
        "16\n"
       ]
      }
     ],
     "prompt_number": 19
    },
    {
     "cell_type": "markdown",
     "metadata": {},
     "source": [
      "There is no shortage of useful examples for using iterators. Take combinatoric functions, for instance:"
     ]
    },
    {
     "cell_type": "code",
     "collapsed": false,
     "input": [
      "import itertools\n",
      "for combination in itertools.combinations([1, 2, 3, 4, 5], 2):\n",
      "    print(combination)"
     ],
     "language": "python",
     "metadata": {},
     "outputs": [
      {
       "output_type": "stream",
       "stream": "stdout",
       "text": [
        "(1, 2)\n",
        "(1, 3)\n",
        "(1, 4)\n",
        "(1, 5)\n",
        "(2, 3)\n",
        "(2, 4)\n",
        "(2, 5)\n",
        "(3, 4)\n",
        "(3, 5)\n",
        "(4, 5)\n"
       ]
      }
     ],
     "prompt_number": 24
    }
   ],
   "metadata": {}
  }
 ]
}

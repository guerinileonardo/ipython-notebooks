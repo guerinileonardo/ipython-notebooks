{
 "metadata": {
  "name": "",
  "signature": "sha256:79273caecc1b771d81c931045b3e7806564669ba035c4b349d3b8f1c6a946ae2"
 },
 "nbformat": 3,
 "nbformat_minor": 0,
 "worksheets": [
  {
   "cells": [
    {
     "cell_type": "heading",
     "level": 1,
     "metadata": {},
     "source": [
      "Comparing the ground state energies obtained by density matrix renormalization group, exact diagonalization, and an SDP hierarchy"
     ]
    },
    {
     "cell_type": "markdown",
     "metadata": {},
     "source": [
      "We would like to compare the ground state energy of the following spinless fermionic system [1]:\n",
      "\n",
      "$H_{\\mathrm{free}}=\\sum_{<rs>}\\left[c_{r}^{\\dagger} c_{s}+c_{s}^{\\dagger} c_{r}-\\gamma(c_{r}^{\\dagger} c_{s}^{\\dagger}+c_{s}c_{r} )\\right]-2\\lambda\\sum_{r}c_{r}^{\\dagger}c_{r},$\n",
      "\n",
      "where $<rs>$ goes through nearest neighbour pairs in a two-dimensional lattice. The fermionic operators are subject to the following constraints:\n",
      "\n",
      "$\\{c_{r}, c_{s}^{\\dagger}\\}=\\delta_{rs}I_{r}$\n",
      "\n",
      "$\\{c_r^\\dagger, c_s^\\dagger\\}=0,$\n",
      "\n",
      "$\\{c_{r}, c_{s}\\}=0.$\n"
     ]
    },
    {
     "cell_type": "markdown",
     "metadata": {},
     "source": [
      "Our primary goal is to benchmark the SDP hierarchy of Reference [2]. The baseline methods are density matrix renormalization group (DMRG) and exact diagonalization (ED), both of which are included in Algorithms and Libraries for Physics Simulations (ALPS). The range of predefined Hamiltonians is limited, so we simplify the equation by setting $\\gamma=0$."
     ]
    },
    {
     "cell_type": "heading",
     "level": 1,
     "metadata": {},
     "source": [
      "Prerequisites"
     ]
    },
    {
     "cell_type": "markdown",
     "metadata": {},
     "source": [
      "To run this notebook, [ALPS](http://alps.comp-phys.org/mediawiki/index.php/Main_Page), [Sympy](http://sympy.org/), [Scipy](http://scipy.org/), and [SDPA](http://sdpa.sourceforge.net/) must be installed. Version 1.2 of [Ncpol2sdpa](https://pypi.python.org/pypi/ncpol2sdpa) is also necessary."
     ]
    },
    {
     "cell_type": "heading",
     "level": 1,
     "metadata": {},
     "source": [
      "Calculating the ground state energy with DMRG and ED"
     ]
    },
    {
     "cell_type": "markdown",
     "metadata": {},
     "source": [
      "DMRG and ED are included in ALPS. To start the calculations, we need to import the Python interface:"
     ]
    },
    {
     "cell_type": "code",
     "collapsed": false,
     "input": [
      "import pyalps"
     ],
     "language": "python",
     "metadata": {},
     "outputs": [],
     "prompt_number": 1
    },
    {
     "cell_type": "markdown",
     "metadata": {},
     "source": [
      "For now, we are only interested in relatively small systems, we will try lattice sizes $2\\times 2$, $3\\times 3$, and $4\\times 4$. With this, we set the parameters for DMRG and ED:"
     ]
    },
    {
     "cell_type": "code",
     "collapsed": false,
     "input": [
      "lattice_range = [2, 3, 4]\n",
      "parms = [{ \n",
      "  'LATTICE'        : \"open square lattice\",  # Set up the lattice\n",
      "  'MODEL'          : \"spinless fermions\",    # Select the model \n",
      "  'L'              : L,                      # Lattice dimension\n",
      "  't'              : -1 ,                    # This and the following\n",
      "  'mu'             : 2,                      # are parameters to the\n",
      "  'U'              : 0 ,                     # Hamiltonian.\n",
      "  'V'              : 0,\n",
      "  'Nmax'           : 2 ,                     # These parameters are\n",
      "  'SWEEPS'         : 4,                      # specific to the DMRG\n",
      "  'MAXSTATES'      : 100,                    # solver.\n",
      "  'NUMBER_EIGENVALUES' : 1,          \n",
      "  'MEASURE_ENERGY' : 1\n",
      "} for L in lattice_range ]"
     ],
     "language": "python",
     "metadata": {},
     "outputs": [],
     "prompt_number": 2
    },
    {
     "cell_type": "markdown",
     "metadata": {},
     "source": [
      "We will need a helper function to extract the ground state energy from the solutions:"
     ]
    },
    {
     "cell_type": "code",
     "collapsed": false,
     "input": [
      "def extract_ground_state_energies(data):\n",
      "    E0 = []\n",
      "    for Lsets in data:\n",
      "        allE = []\n",
      "        for q in pyalps.flatten(Lsets):\n",
      "            allE.append(q.y[0])\n",
      "        E0.append(allE[0])\n",
      "    return sorted(E0, reverse=True)"
     ],
     "language": "python",
     "metadata": {},
     "outputs": [],
     "prompt_number": 3
    },
    {
     "cell_type": "markdown",
     "metadata": {},
     "source": [
      "We invoke the solvers and extract the ground state energies from the solutions:"
     ]
    },
    {
     "cell_type": "code",
     "collapsed": false,
     "input": [
      "prefix = 'comparison'\n",
      "input_file = pyalps.writeInputFiles(prefix, parms)\n",
      "\n",
      "res = pyalps.runApplication('sparsediag', input_file)\n",
      "sparsediag_data = pyalps.loadEigenstateMeasurements(\n",
      "                     pyalps.getResultFiles(prefix=prefix)) \n",
      "\n",
      "res = pyalps.runApplication('dmrg',input_file)\n",
      "dmrg_data = pyalps.loadEigenstateMeasurements(\n",
      "                  pyalps.getResultFiles(prefix=prefix)) \n",
      "\n",
      "sparsediag_ground_state_energy = extract_ground_state_energies(sparsediag_data)\n",
      "dmrg_ground_state_energy = extract_ground_state_energies(dmrg_data)"
     ],
     "language": "python",
     "metadata": {},
     "outputs": [
      {
       "output_type": "stream",
       "stream": "stdout",
       "text": [
        "sparsediag comparison.in.xml\n",
        "dmrg comparison.in.xml"
       ]
      },
      {
       "output_type": "stream",
       "stream": "stdout",
       "text": [
        "\n"
       ]
      }
     ],
     "prompt_number": 4
    },
    {
     "cell_type": "heading",
     "level": 1,
     "metadata": {},
     "source": [
      "Calculating the ground state energy with SDP"
     ]
    },
    {
     "cell_type": "markdown",
     "metadata": {},
     "source": [
      "The ground state energy problem can be rephrased as a polynomial optimiziation problem of noncommuting variables. We use Ncpol2sdpa to translate this optimization problem to a sparse SDP relaxation [4]. The relaxation is solved with SDPA, a high-performance SDP solver that deals with sparse problems efficiently [5]. First we need to import a few more functions:"
     ]
    },
    {
     "cell_type": "code",
     "collapsed": false,
     "input": [
      "from sympy.physics.quantum.dagger import Dagger\n",
      "from ncpol2sdpa import SdpRelaxation, generate_variables, \\\n",
      "                       fermionic_constraints, get_neighbors, solve_sdp"
     ],
     "language": "python",
     "metadata": {},
     "outputs": [],
     "prompt_number": 5
    },
    {
     "cell_type": "markdown",
     "metadata": {},
     "source": [
      "We set the additional parameters for this formulation, including the order of the relaxation:"
     ]
    },
    {
     "cell_type": "code",
     "collapsed": false,
     "input": [
      "order = 1\n",
      "gam, lam = 0, 1"
     ],
     "language": "python",
     "metadata": {},
     "outputs": [],
     "prompt_number": 6
    },
    {
     "cell_type": "markdown",
     "metadata": {},
     "source": [
      "Then we iterate over the lattice range, defining a new Hamiltonian and new constraints in each step:"
     ]
    },
    {
     "cell_type": "code",
     "collapsed": false,
     "input": [
      "sdp_ground_state_energy = []\n",
      "for lattice_dimension in lattice_range:\n",
      "    n_vars = lattice_dimension * lattice_dimension\n",
      "    C = generate_variables(n_vars, name='C%s' % (lattice_dimension))\n",
      "    \n",
      "    hamiltonian = 0\n",
      "    for r in range(n_vars):\n",
      "        hamiltonian -= 2*lam*Dagger(C[r])*C[r]\n",
      "        for s in get_neighbors(r, lattice_dimension):\n",
      "            hamiltonian += Dagger(C[r])*C[s] + Dagger(C[s])*C[r]\n",
      "            hamiltonian -= gam*(Dagger(C[r])*Dagger(C[s]) + C[s]*C[r])\n",
      "    \n",
      "    monomial_substitutions, equalities = fermionic_constraints(C)\n",
      "    inequalities = []\n",
      "    \n",
      "    sdpRelaxation = SdpRelaxation(C)\n",
      "    sdpRelaxation.get_relaxation(hamiltonian, inequalities, equalities, \n",
      "                          monomial_substitutions, order)\n",
      "    primal, dual = solve_sdp(sdpRelaxation)\n",
      "    sdp_ground_state_energy.append(primal)"
     ],
     "language": "python",
     "metadata": {},
     "outputs": [],
     "prompt_number": 7
    },
    {
     "cell_type": "heading",
     "level": 1,
     "metadata": {},
     "source": [
      "Comparison"
     ]
    },
    {
     "cell_type": "markdown",
     "metadata": {},
     "source": [
      "The level-one relaxation increasingly deviates from the ground state given by DMRG and ED:"
     ]
    },
    {
     "cell_type": "code",
     "collapsed": false,
     "input": [
      "data = [dmrg_ground_state_energy,\\\n",
      "        sparsediag_ground_state_energy,\\\n",
      "        sdp_ground_state_energy]\n",
      "labels = [\"DMRG\", \"ED\", \"SDP\"]\n",
      "print (\"{:>4} {:>7} {:>7} {:>7}\").format(\"\", *lattice_range)\n",
      "for label, row in zip(labels, data):\n",
      "    print (\"{:>4} {:>7.3f} {:>7.3f} {:>7.3f}\").format(label, *row)"
     ],
     "language": "python",
     "metadata": {},
     "outputs": [
      {
       "output_type": "stream",
       "stream": "stdout",
       "text": [
        "           2       3       4\n",
        "DMRG  -8.000 -18.828 -33.708\n",
        "  ED  -8.000 -18.828 -33.708\n",
        " SDP  -8.000 -21.000 -40.000\n"
       ]
      }
     ],
     "prompt_number": 8
    },
    {
     "cell_type": "markdown",
     "metadata": {},
     "source": [
      "The level-two relaxations give identical results, although lattice size $4\\times 4$ is yet to be confirmed."
     ]
    },
    {
     "cell_type": "heading",
     "level": 1,
     "metadata": {},
     "source": [
      "References"
     ]
    },
    {
     "cell_type": "markdown",
     "metadata": {},
     "source": [
      "[1] Corboz, P.; Evenbly, G.; Verstraete, F. & Vidal, G. [Simulation of interacting fermions with entanglement renormalization](http://arxiv.org/abs/0904.4151). _Physics Review A_, 2010, 81, pp. 010303.\n",
      "\n",
      "[2] Pironio, S.; Navascu\u00e9s, M. & Ac\u00edn, A. [Convergent relaxations of polynomial optimization problems with noncommuting variables](http://arxiv.org/abs/0903.4368). _SIAM Journal on Optimization_, 2010, 20, pp. 2157-2180.\n",
      "\n",
      "[3] Bauer, B.; Carr, L.; Evertz, H.; Feiguin, A.; Freire, J.; Fuchs, S.; Gamper, L.; Gukelberger, J.; Gull, E.; Guertler, S. & others. [The ALPS project release 2.0: Open source software for strongly correlated systems](http://arxiv.org/abs/1101.2646). _Journal of Statistical Mechanics: Theory and Experiment_, IOP Publishing, 2011, 2011, P05001.\n",
      "\n",
      "[4] Wittek, P. [Ncpol2sdpa -- Sparse Semidefinite Programming Relaxations for Polynomial Optimization Problems of Noncommuting Variables](http://arxiv.org/abs/1308.6029). _arXiv:1308.6029_, 2013.\n",
      "\n",
      "[5] Yamashita, M.; Fujisawa, K. & Kojima, M. [Implementation and evaluation of SDPA 6.0 (semidefinite programming algorithm 6.0)](http://dx.doi.org/10.1080/1055678031000118482). _Optimization Methods and Software_, 2003, 18, 491-505."
     ]
    }
   ],
   "metadata": {}
  }
 ]
}

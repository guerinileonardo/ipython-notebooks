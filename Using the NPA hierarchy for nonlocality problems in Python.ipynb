{
 "metadata": {
  "kernelspec": {
   "display_name": "Python 2",
   "language": "python",
   "name": "python2"
  },
  "language_info": {
   "codemirror_mode": {
    "name": "ipython",
    "version": 2
   },
   "file_extension": ".py",
   "mimetype": "text/x-python",
   "name": "python",
   "nbconvert_exporter": "python",
   "pygments_lexer": "ipython2",
   "version": "2.7.9"
  },
  "name": ""
 },
 "nbformat": 3,
 "nbformat_minor": 0,
 "worksheets": [
  {
   "cells": [
    {
     "cell_type": "markdown",
     "metadata": {},
     "source": [
      "1. Introduction\n",
      "=========\n",
      "The original task was to generate the SDP relaxations of arbitrarily complex polynomial optimization problems of noncommuting variables, that is, the most general form of the NPA hierarchy [1] -- the tool for this conversion is called [Ncpol2sdpa](http://peterwittek.github.io/ncpol2sdpa/) [2]. Development started in MATLAB, with an eye on the libraries that achieve the same purpose for the Lasserre hierarchy, [Gloptipoly](http://homepages.laas.fr/henrion/software/gloptipoly/) and [SparsePOP](http://sparsepop.sourceforge.net/). Hence the approach was more algebraic from the beginning, rather than directly manipulating SDPs with [CVX](http://cvxr.com/cvx/), [SeDuMi](http://sedumi.ie.lehigh.edu/), or [Yalmip](http://users.isy.liu.se/johanl/yalmip/). Thus first it can be counterintuitive to use the library for quantum correlations. To further complicate things, MATLAB's noncommutative symbolic algebra capabilities were insufficient, hence development switched to using Python. The purpose of this notebook is to give a taste how it works.\n",
      "\n",
      "2. Preliminiaries\n",
      "=========\n",
      "We found that the most difficult part is getting Python running with the necessary libraries. By far the easiest solution is to download [Anaconda](https://store.continuum.io/cshop/anaconda/), which bundles all necessary libraries and tools needed on Windows, Linux, and OS X. This is especially preferred if you are using a restricted computer where you do not have admin rights. You can then install the current stable version of Ncpol2sdpa by typing ``pip install ncpol2sdpa`` on the command line. Other relevant libraries could prove more difficult to install, but we won't detail that here. If all works fine, you should be able to import all functions from the module:"
     ]
    },
    {
     "cell_type": "code",
     "collapsed": true,
     "input": [
      "from ncpol2sdpa import *"
     ],
     "language": "python",
     "metadata": {},
     "outputs": [],
     "prompt_number": 1
    },
    {
     "cell_type": "markdown",
     "metadata": {},
     "source": [
      "Other than a working Python installation with the necessary modules, you will also need an SDP solver. [SDPA](http://sdpa.sourceforge.net/) is the most recommended solver, which can be infinitely painful to set up. The rest of the tutorial assumes that the SDPA executable is in the path. See the section on alternative solvers if you cannot get SDPA working."
     ]
    },
    {
     "cell_type": "markdown",
     "metadata": {},
     "source": [
      "3. Working with projectors\n",
      "================\n",
      "3.1 Tsirelson bound for CHSH at level 4\n",
      "----------------------------------------------------\n",
      "We take a simple CHSH scenario in the probability picture first. As a simple example, we want to find the Tsirelson bound of the inequality. Say, we want a result at level 4, then we need to specify the measurement configuration of Alice and Bob, and the inequality in the Collins-Gisin notation:"
     ]
    },
    {
     "cell_type": "code",
     "collapsed": false,
     "input": [
      "level = 4\n",
      "Alice = [2, 2]\n",
      "Bob = [2, 2]\n",
      "I = [[ 0,   -1,    0 ],\n",
      "     [-1,    1,    1 ],\n",
      "     [ 0,    1,   -1 ]]\n",
      "print(maximum_violation(Alice, Bob, I, level))"
     ],
     "language": "python",
     "metadata": {},
     "outputs": [
      {
       "output_type": "stream",
       "stream": "stdout",
       "text": [
        "(-0.20710648902908663, -0.20710683598916801)\n"
       ]
      }
     ],
     "prompt_number": 2
    },
    {
     "cell_type": "markdown",
     "metadata": {},
     "source": [
      "The value is negative because any kind of SDP generated **must** be a minimization, hence we flipped the sign of the objective function. The function ``maximum_violation`` hides the gory details. If we want to do something less trivial, we need to understand more of how it works. So let us do the same thing as above, but rolling out the steps. First of all, we need the symbolic operators representing the measurements of Alice and Bob:"
     ]
    },
    {
     "cell_type": "code",
     "collapsed": true,
     "input": [
      "A = generate_measurements(Alice, 'A')\n",
      "B = generate_measurements(Bob, 'B')"
     ],
     "language": "python",
     "metadata": {},
     "outputs": [],
     "prompt_number": 3
    },
    {
     "cell_type": "markdown",
     "metadata": {},
     "source": [
      "For instance, now Alice has two sets of Hermitian operators:"
     ]
    },
    {
     "cell_type": "code",
     "collapsed": false,
     "input": [
      "A"
     ],
     "language": "python",
     "metadata": {},
     "outputs": [
      {
       "metadata": {},
       "output_type": "pyout",
       "prompt_number": 4,
       "text": [
        "[[A00], [A10]]"
       ]
      }
     ],
     "prompt_number": 4
    },
    {
     "cell_type": "markdown",
     "metadata": {},
     "source": [
      "The first index encodes the measurement, the second the operator within the measurement. Clearly, $A_{01}$ and $A_{11}$ are missing, because we are in the Collins-Gisin notation.\n",
      "\n",
      "These operators are Hermitian, but there is nothing telling that they are projectors. There algebra is defined through substitution rules that ensures a unique monomial for arbitrary multiplications of the operators of Alice and Bob."
     ]
    },
    {
     "cell_type": "code",
     "collapsed": true,
     "input": [
      "substitutions = projective_measurement_constraints(A, B)"
     ],
     "language": "python",
     "metadata": {},
     "outputs": [],
     "prompt_number": 5
    },
    {
     "cell_type": "markdown",
     "metadata": {},
     "source": [
      "The above function can extend to arbitrary number of parties, measurements and measurement outputs. Let's take a look at the obtained substitutions:"
     ]
    },
    {
     "cell_type": "code",
     "collapsed": false,
     "input": [
      "substitutions"
     ],
     "language": "python",
     "metadata": {},
     "outputs": [
      {
       "metadata": {},
       "output_type": "pyout",
       "prompt_number": 6,
       "text": [
        "{A00**2: A00,\n",
        " B00*A10: A10*B00,\n",
        " B10*A00: A00*B10,\n",
        " B10**2: B10,\n",
        " B00**2: B00,\n",
        " A10**2: A10,\n",
        " B00*A00: A00*B00,\n",
        " B10*A10: A10*B10}"
       ]
      }
     ],
     "prompt_number": 6
    },
    {
     "cell_type": "markdown",
     "metadata": {},
     "source": [
      "All we have are idempotency rules and commutations across the parties. If we had more then two outputs in a measurement, we would also see orthogonality rules. The only thing remaining before getting the relaxation is defining the objective function with the $I$ matrix, for which there is a helper function:"
     ]
    },
    {
     "cell_type": "code",
     "collapsed": false,
     "input": [
      "objective = define_objective_with_I(I, A, B)\n",
      "objective"
     ],
     "language": "python",
     "metadata": {},
     "outputs": [
      {
       "metadata": {},
       "output_type": "pyout",
       "prompt_number": 7,
       "text": [
        "A00 - A00*B00 - A00*B10 - A10*B00 + A10*B10 + B00"
       ]
      }
     ],
     "prompt_number": 7
    },
    {
     "cell_type": "markdown",
     "metadata": {},
     "source": [
      "Now we first initialize the SDP relaxation object. This step does not do any calculation, but it can take tons of parameters to fine-tune the resulting relaxation."
     ]
    },
    {
     "cell_type": "code",
     "collapsed": true,
     "input": [
      "sdpRelaxation = SdpRelaxation(flatten([A, B]))"
     ],
     "language": "python",
     "metadata": {},
     "outputs": [],
     "prompt_number": 8
    },
    {
     "cell_type": "markdown",
     "metadata": {},
     "source": [
      "We are ready to generate the relaxation given the algebraic constraints. This is the step that is heavy in symbolic calculations. For complex problems or very high levels of relaxations, this can take a very long time."
     ]
    },
    {
     "cell_type": "code",
     "collapsed": true,
     "input": [
      "sdpRelaxation.get_relaxation(level, objective=objective,\n",
      "                             substitutions=substitutions)"
     ],
     "language": "python",
     "metadata": {},
     "outputs": [],
     "prompt_number": 9
    },
    {
     "cell_type": "markdown",
     "metadata": {},
     "source": [
      "Having obtained the relaxation, we can solve it with SDPA. Until now, all steps were symbolic. From here, everything is numeric."
     ]
    },
    {
     "cell_type": "code",
     "collapsed": false,
     "input": [
      "print(solve_sdp(sdpRelaxation))"
     ],
     "language": "python",
     "metadata": {},
     "outputs": [],
     "prompt_number": 10
    },
    {
     "cell_type": "markdown",
     "metadata": {},
     "source": [
      "3.2 Quantum bound on CGLMP at level 1+AB\n",
      "-------------------------------------------------\n",
      "We can quickly put this together from the above, while also preparing an extra set of monomials to be added to the moment matrix:"
     ]
    },
    {
     "cell_type": "code",
     "collapsed": false,
     "input": [
      "level = 1\n",
      "Alice, Bob = [3, 3], [3, 3]\n",
      "I = [[ 0, -1, -1,  0,  0],\n",
      "     [-1,  1,  1,  0,  1],\n",
      "     [-1,  1,  0,  1,  1],\n",
      "     [ 0,  0,  1,  0, -1],\n",
      "     [ 0,  1,  1, -1, -1]]\n",
      "A = generate_measurements(Alice, 'A')\n",
      "B = generate_measurements(Bob, 'B')\n",
      "AB = [Ai*Bj for Ai in flatten(A) for Bj in flatten(B)]\n",
      "substitutions = projective_measurement_constraints(A, B)\n",
      "objective = define_objective_with_I(I, A, B)\n",
      "sdpRelaxation = SdpRelaxation(flatten([A, B]))\n",
      "sdpRelaxation.get_relaxation(level, objective=objective, substitutions=substitutions,\n",
      "                             extramonomials=AB)\n",
      "print(solve_sdp(sdpRelaxation))"
     ],
     "language": "python",
     "metadata": {},
     "outputs": [
      {
       "output_type": "stream",
       "stream": "stdout",
       "text": [
        "(-0.3049512104453153, -0.30495152768528117)\n"
       ]
      }
     ],
     "prompt_number": 16
    },
    {
     "cell_type": "markdown",
     "metadata": {},
     "source": [
      "4. Moroder hierarchy and PPT conditions\n",
      "=======================\n",
      "Continuing with the CGLMP example, we can calculate the Moroder hierarchy and impose the PPT condition with changing only the SdpRelaxation object. Since the moment matrix has a tensor product structure, we need to supply two flat lists of operators instead of one, and ask for the Moroder structure with the PPT condition imposed. Everything else is identical, but we change the level to 2:"
     ]
    },
    {
     "cell_type": "code",
     "collapsed": false,
     "input": [
      "sdpRelaxation = SdpRelaxation([flatten(A), flatten(B)], \n",
      "                               hierarchy=\"moroder\", ppt=True)\n",
      "level = 2\n",
      "sdpRelaxation.get_relaxation(level, objective=objective,\n",
      "                             substitutions=substitutions)\n",
      "print(solve_sdp(sdpRelaxation))"
     ],
     "language": "python",
     "metadata": {},
     "outputs": [
      {
       "output_type": "stream",
       "stream": "stdout",
       "text": [
        "(1.0745080325502698e-08, -2.624019096329439e-08)\n"
       ]
      }
     ],
     "prompt_number": 12
    },
    {
     "cell_type": "markdown",
     "metadata": {},
     "source": [
      "Not surprisingly, the value is extremely close to zero."
     ]
    },
    {
     "cell_type": "markdown",
     "metadata": {},
     "source": [
      "5. Full probabilities\n",
      "============\n",
      "5.1 Local randomness\n",
      "---------------------------\n",
      "This is a bit more involved than the previous scenarios, but it should not be surprising, as we need a lot more constraints, which correspond to the observed correlations."
     ]
    },
    {
     "cell_type": "markdown",
     "metadata": {},
     "source": [
      "5.2 Global randomness\n",
      "----------------------------\n",
      "..."
     ]
    },
    {
     "cell_type": "markdown",
     "metadata": {},
     "source": [
      "6. Additional manipulation of the generated SDPs\n",
      "============================\n",
      "... [PICOS](http://picos.zib.de/)"
     ]
    },
    {
     "cell_type": "markdown",
     "metadata": {},
     "source": [
      "7. Alternative SDP solvers\n",
      "===============\n",
      "SDPA-GMP, SDPA-QD, [Mosek](http://mosek.com/), [CVXOPT](http://cvxopt.org/)\n",
      "Cluster execution"
     ]
    },
    {
     "cell_type": "markdown",
     "metadata": {},
     "source": [
      "References\n",
      "======\n",
      "[1] Pironio, S.; Navascu\u00e9s, M. & Ac\u00edn, A. [Convergent relaxations of polynomial optimization problems with noncommuting variables](http://arxiv.org/abs/0903.4368). _SIAM Journal on Optimization_, 2010, 20, pp. 2157-2180.\n",
      "\n",
      "[2] Wittek, P. [Ncpol2sdpa -- Sparse Semidefinite Programming Relaxations for Polynomial Optimization Problems of Noncommuting Variables](http://arxiv.org/abs/1308.6029). _To appear in the ACM Transactions on Mathematical Software_, 2015."
     ]
    }
   ],
   "metadata": {}
  }
 ]
}

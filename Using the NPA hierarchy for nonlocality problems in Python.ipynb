{
 "cells": [
  {
   "cell_type": "markdown",
   "metadata": {},
   "source": [
    "1. Introduction\n",
    "=========\n",
    "The original task was to generate the SDP relaxations of arbitrarily complex polynomial optimization problems of noncommuting variables, that is, the most general form of the NPA hierarchy [1] -- the tool for this conversion is called [Ncpol2sdpa](http://peterwittek.github.io/ncpol2sdpa/) [2]. Development started in MATLAB, with an eye on the libraries that achieve the same purpose for the Lasserre hierarchy, [Gloptipoly](http://homepages.laas.fr/henrion/software/gloptipoly/) and [SparsePOP](http://sparsepop.sourceforge.net/). Hence the approach was more algebraic from the beginning, rather than directly manipulating SDPs with [CVX](http://cvxr.com/cvx/), [SeDuMi](http://sedumi.ie.lehigh.edu/), or [Yalmip](http://users.isy.liu.se/johanl/yalmip/). Thus first it can be counterintuitive to use the library for quantum correlations. To further complicate things, MATLAB's noncommutative symbolic algebra capabilities were insufficient, hence development switched to using Python. The purpose of this notebook is to give a taste how it works.\n",
    "\n",
    "2. Preliminiaries\n",
    "=========\n",
    "We found that the most difficult part is getting Python running with the necessary libraries. By far the easiest solution is to download [Anaconda](https://store.continuum.io/cshop/anaconda/), which bundles all necessary libraries and tools needed on Windows, Linux, and OS X. This is especially preferred if you are using a restricted computer where you do not have admin rights. You can then install the current stable version of Ncpol2sdpa by typing ``pip install ncpol2sdpa`` on the command line. Other relevant libraries could prove more difficult to install, but we won't detail that here. If all works fine, you should be able to import all functions from the module:"
   ]
  },
  {
   "cell_type": "code",
   "execution_count": 1,
   "metadata": {
    "collapsed": true
   },
   "outputs": [],
   "source": [
    "from ncpol2sdpa import *"
   ]
  },
  {
   "cell_type": "markdown",
   "metadata": {},
   "source": [
    "Other than a working Python installation with the necessary modules, you will also need an SDP solver. [SDPA](http://sdpa.sourceforge.net/) is the most recommended solver, which can be infinitely painful to set up. The rest of the tutorial assumes that the SDPA executable is in the path. See the section on alternative solvers if you cannot get SDPA working. CVXOPT, for instance, is included in Anaconda, and should work out of the box."
   ]
  },
  {
   "cell_type": "markdown",
   "metadata": {},
   "source": [
    "3. Working with projectors\n",
    "================\n",
    "3.1 Tsirelson bound for CHSH at level 4\n",
    "----------------------------------------------------\n",
    "We take a simple CHSH scenario in the probability picture first. As a simple example, we want to find the Tsirelson bound of the inequality. Say, we want a result at level 4, then we need to specify the measurement configuration of Alice and Bob, and the inequality in the Collins-Gisin notation:"
   ]
  },
  {
   "cell_type": "code",
   "execution_count": 2,
   "metadata": {
    "collapsed": false
   },
   "outputs": [
    {
     "name": "stdout",
     "output_type": "stream",
     "text": [
      "(-0.20710650757940174, -0.2071068414700042)\n"
     ]
    }
   ],
   "source": [
    "level = 4\n",
    "Alice = [2, 2]\n",
    "Bob = [2, 2]\n",
    "I = [[ 0,   -1,    0 ],\n",
    "     [-1,    1,    1 ],\n",
    "     [ 0,    1,   -1 ]]\n",
    "print(maximum_violation(Alice, Bob, I, level))"
   ]
  },
  {
   "cell_type": "markdown",
   "metadata": {},
   "source": [
    "The value is negative because any kind of SDP generated **must** be a minimization, hence we flipped the sign of the objective function. The function ``maximum_violation`` hides the gory details. If we want to do something less trivial, we need to understand more of how it works. So let us do the same thing as above, but rolling out the steps. First of all, we need the symbolic operators representing the measurements of Alice and Bob:"
   ]
  },
  {
   "cell_type": "code",
   "execution_count": 3,
   "metadata": {
    "collapsed": true
   },
   "outputs": [],
   "source": [
    "A = generate_measurements(Alice, 'A')\n",
    "B = generate_measurements(Bob, 'B')"
   ]
  },
  {
   "cell_type": "markdown",
   "metadata": {},
   "source": [
    "For instance, now Alice has two sets of Hermitian operators:"
   ]
  },
  {
   "cell_type": "code",
   "execution_count": 4,
   "metadata": {
    "collapsed": false
   },
   "outputs": [
    {
     "data": {
      "text/plain": [
       "[[A0], [A1]]"
      ]
     },
     "execution_count": 4,
     "metadata": {},
     "output_type": "execute_result"
    }
   ],
   "source": [
    "A"
   ]
  },
  {
   "cell_type": "markdown",
   "metadata": {},
   "source": [
    "The first index encodes the measurement, the second the operator within the measurement. Clearly, $A_{01}$ and $A_{11}$ are missing, because we are in the Collins-Gisin notation.\n",
    "\n",
    "These operators are Hermitian, but there is nothing telling that they are projectors. There algebra is defined through substitution rules that ensures a unique monomial for arbitrary multiplications of the operators of Alice and Bob."
   ]
  },
  {
   "cell_type": "code",
   "execution_count": 5,
   "metadata": {
    "collapsed": true
   },
   "outputs": [],
   "source": [
    "substitutions = projective_measurement_constraints(A, B)"
   ]
  },
  {
   "cell_type": "markdown",
   "metadata": {},
   "source": [
    "The above function can extend to arbitrary number of parties, measurements and measurement outputs. Let's take a look at the obtained substitutions:"
   ]
  },
  {
   "cell_type": "code",
   "execution_count": 6,
   "metadata": {
    "collapsed": false
   },
   "outputs": [
    {
     "data": {
      "text/plain": [
       "{B1*A1: A1*B1,\n",
       " B0*A0: A0*B0,\n",
       " B1**2: B1,\n",
       " B0**2: B0,\n",
       " A0**2: A0,\n",
       " B0*A1: A1*B0,\n",
       " B1*A0: A0*B1,\n",
       " A1**2: A1}"
      ]
     },
     "execution_count": 6,
     "metadata": {},
     "output_type": "execute_result"
    }
   ],
   "source": [
    "substitutions"
   ]
  },
  {
   "cell_type": "markdown",
   "metadata": {},
   "source": [
    "All we have are idempotency rules and commutations across the parties. If we had more then two outputs in a measurement, we would also see orthogonality rules. The only thing remaining before getting the relaxation is defining the objective function with the $I$ matrix, for which there is a helper function:"
   ]
  },
  {
   "cell_type": "code",
   "execution_count": 7,
   "metadata": {
    "collapsed": false
   },
   "outputs": [
    {
     "data": {
      "text/plain": [
       "A0 - A0*B0 - A0*B1 - A1*B0 + A1*B1 + B0"
      ]
     },
     "execution_count": 7,
     "metadata": {},
     "output_type": "execute_result"
    }
   ],
   "source": [
    "objective = define_objective_with_I(I, A, B)\n",
    "objective"
   ]
  },
  {
   "cell_type": "markdown",
   "metadata": {},
   "source": [
    "Now we first initialize the SDP relaxation object. This step does not do any calculation, but it can take tons of parameters to fine-tune the resulting relaxation."
   ]
  },
  {
   "cell_type": "code",
   "execution_count": 8,
   "metadata": {
    "collapsed": true
   },
   "outputs": [],
   "source": [
    "sdpRelaxation = SdpRelaxation(flatten([A, B]))"
   ]
  },
  {
   "cell_type": "markdown",
   "metadata": {},
   "source": [
    "We are ready to generate the relaxation given the algebraic constraints. This is the step that is heavy in symbolic calculations. For complex problems or very high levels of relaxations, this can take a very long time."
   ]
  },
  {
   "cell_type": "code",
   "execution_count": 9,
   "metadata": {
    "collapsed": true
   },
   "outputs": [],
   "source": [
    "sdpRelaxation.get_relaxation(level, objective=objective,\n",
    "                             substitutions=substitutions)"
   ]
  },
  {
   "cell_type": "markdown",
   "metadata": {},
   "source": [
    "Having obtained the relaxation, we can solve it with SDPA. Until now, all steps were symbolic. From here, everything is numeric."
   ]
  },
  {
   "cell_type": "code",
   "execution_count": 10,
   "metadata": {
    "collapsed": false
   },
   "outputs": [
    {
     "name": "stdout",
     "output_type": "stream",
     "text": [
      "(-0.20710650757940174, -0.2071068414700042)\n"
     ]
    }
   ],
   "source": [
    "sdpRelaxation.solve()\n",
    "print(sdpRelaxation.primal, sdpRelaxation.dual)"
   ]
  },
  {
   "cell_type": "markdown",
   "metadata": {},
   "source": [
    "3.2 Quantum bound on CGLMP at level 1+AB\n",
    "-------------------------------------------------\n",
    "We can quickly put this together from the above, while also preparing an extra set of monomials to be added to the moment matrix:"
   ]
  },
  {
   "cell_type": "code",
   "execution_count": 11,
   "metadata": {
    "collapsed": false
   },
   "outputs": [
    {
     "name": "stdout",
     "output_type": "stream",
     "text": [
      "(-0.3157779808136485, -0.3157781081349144)\n"
     ]
    }
   ],
   "source": [
    "level = 1\n",
    "Alice, Bob = [3, 3], [3, 3]\n",
    "I = [[ 0, -1, -1,  0,  0],\n",
    "     [-1,  1,  1,  0,  1],\n",
    "     [-1,  1,  0,  1,  1],\n",
    "     [ 0,  0,  1,  0, -1],\n",
    "     [ 0,  1,  1, -1, -1]]\n",
    "A = generate_measurements(Alice, 'A')\n",
    "B = generate_measurements(Bob, 'B')\n",
    "AB = [Ai*Bj for Ai in flatten(A) for Bj in flatten(B)]\n",
    "substitutions = projective_measurement_constraints(A, B)\n",
    "objective = define_objective_with_I(I, A, B)\n",
    "sdpRelaxation = SdpRelaxation(flatten([A, B]))\n",
    "sdpRelaxation.get_relaxation(level, objective=objective, substitutions=substitutions,\n",
    "                             extramonomials=AB)\n",
    "sdpRelaxation.solve()\n",
    "print(sdpRelaxation.primal, sdpRelaxation.dual)"
   ]
  },
  {
   "cell_type": "markdown",
   "metadata": {},
   "source": [
    "4. Moroder hierarchy and PPT conditions\n",
    "=======================\n",
    "Continuing with the CGLMP example, we can calculate the Moroder hierarchy and impose the PPT condition with changing only the SdpRelaxation object. Since the moment matrix has a tensor product structure, we need to supply two flat lists of operators instead of one, and ask for the Moroder structure with the PPT condition imposed. Everything else is identical, but we change the level to 2:"
   ]
  },
  {
   "cell_type": "code",
   "execution_count": 12,
   "metadata": {
    "collapsed": false
   },
   "outputs": [
    {
     "name": "stdout",
     "output_type": "stream",
     "text": [
      "(-0.03036149264516852, -0.03036223458167607)\n"
     ]
    }
   ],
   "source": [
    "sdpRelaxation = MoroderHierarchy([flatten(A), flatten(B)], ppt=True)\n",
    "level = 2\n",
    "sdpRelaxation.get_relaxation(level, objective=objective, substitutions=substitutions)\n",
    "sdpRelaxation.solve()\n",
    "print(sdpRelaxation.primal, sdpRelaxation.dual)"
   ]
  },
  {
   "cell_type": "markdown",
   "metadata": {},
   "source": [
    "Not surprisingly, the value is extremely close to zero."
   ]
  },
  {
   "cell_type": "markdown",
   "metadata": {},
   "source": [
    "5. Full probabilities\n",
    "============\n",
    "5.1 Local randomness\n",
    "---------------------------\n",
    "This is a bit more involved than the previous scenarios, but it should not be surprising, as we need a lot more constraints, which correspond to the observed correlations. We will use [QuTiP](http://qutip.org/) to calculate the observed correlations, but they could easily be computed by NumPy if QuTiP fails to install -- NumPy is included in Anaconda. We define the joint probability function for a CHSH scenario as follows"
   ]
  },
  {
   "cell_type": "code",
   "execution_count": 13,
   "metadata": {
    "collapsed": true
   },
   "outputs": [],
   "source": [
    "from math import sqrt, sin, cos, pi, atan\n",
    "from qutip import tensor, basis, sigmax, sigmay, expect, qeye\n",
    "def joint_probabilities():\n",
    "    psi = (tensor(basis(2,0),basis(2,0)) + \n",
    "           tensor(basis(2,1),basis(2,1))).unit()\n",
    "    A_0 = sigmax()\n",
    "    A_1 = sigmay()\n",
    "    B_0 = (-sigmay()+sigmax())/sqrt(2)\n",
    "    B_1 = (sigmay()+sigmax())/sqrt(2)\n",
    "    A_00 = (qeye(2) + A_0)/2\n",
    "    A_10 = (qeye(2) + A_1)/2\n",
    "    B_00 = (qeye(2) + B_0)/2\n",
    "    B_10 = (qeye(2) + B_1)/2\n",
    "\n",
    "    p=[expect(tensor(A_00, qeye(2)), psi),\n",
    "       expect(tensor(A_10, qeye(2)), psi),\n",
    "       expect(tensor(qeye(2), B_00), psi),\n",
    "       expect(tensor(qeye(2), B_10), psi),\n",
    "       expect(tensor(A_00, B_00), psi),\n",
    "       expect(tensor(A_00, B_10), psi),\n",
    "       expect(tensor(A_10, B_00), psi),\n",
    "       expect(tensor(A_10, B_10), psi)]\n",
    "    return p"
   ]
  },
  {
   "cell_type": "markdown",
   "metadata": {},
   "source": [
    "Just as in the cases before, we need the operators for Alice and Bob. We need several of them, though, corresponding to the possible behaviour from which we can create the maximum guessing probability. Say, we are interested in the local guessing probability of Bob's second measurement, then we need two behaviours corresponding to the two projectors."
   ]
  },
  {
   "cell_type": "code",
   "execution_count": 14,
   "metadata": {
    "collapsed": false
   },
   "outputs": [],
   "source": [
    "Alice, Bob = [2, 2], [2, 2]\n",
    "P_0_A = generate_measurements(Alice, 'P_0_A')\n",
    "P_0_B = generate_measurements(Bob, 'P_0_B')\n",
    "P_1_A = generate_measurements(Alice, 'P_1_A')\n",
    "P_1_B = generate_measurements(Bob, 'P_1_B')\n",
    "substitutions = projective_measurement_constraints(P_0_A, P_0_B)\n",
    "substitutions.update(projective_measurement_constraints(P_1_A, P_1_B))"
   ]
  },
  {
   "cell_type": "markdown",
   "metadata": {},
   "source": [
    "As in the Moroder hierarchy, we generate the relaxation from separate lists of variables, but now to have a block-diagonal structure. Note that the moment matrices should not be normalized."
   ]
  },
  {
   "cell_type": "code",
   "execution_count": 15,
   "metadata": {
    "collapsed": false
   },
   "outputs": [],
   "source": [
    "sdpRelaxation = SdpRelaxation([flatten([P_0_A, P_0_B]), flatten([P_1_A, P_1_B])],\n",
    "                              normalized=False)"
   ]
  },
  {
   "cell_type": "markdown",
   "metadata": {},
   "source": [
    "Next, we impose the constraints. The constraints are such that the relaxation should not generate localizing matrices. Such inequalities are called bounds in Ncpol2sdpa. Inequalities are always considered in >=0 format, so we only need to add the left-hand side."
   ]
  },
  {
   "cell_type": "code",
   "execution_count": 16,
   "metadata": {
    "collapsed": false
   },
   "outputs": [],
   "source": [
    "probabilities = joint_probabilities()\n",
    "moments = []\n",
    "k=0\n",
    "for i in range(len(Alice)):\n",
    "    moments.append(P_0_A[i][0] + P_1_A[i][0] - probabilities[k])\n",
    "    k += 1\n",
    "for i in range(len(Bob)):\n",
    "    moments.append(P_0_B[i][0] + P_1_B[i][0] - probabilities[k])\n",
    "    k += 1\n",
    "for i in range(len(Alice)):\n",
    "    for j in range(len(Bob)):\n",
    "        moments.append(P_0_A[i][0]*P_0_B[j][0] + P_1_A[i][0]*P_1_B[j][0] -\n",
    "                          probabilities[k])\n",
    "        k += 1"
   ]
  },
  {
   "cell_type": "markdown",
   "metadata": {},
   "source": [
    "We also need to normalize the top-left element of the moment matrices to add up to one. For this, there is a special string-based syntax, which allows us to reference elements of the moment matrices yet to be generated:"
   ]
  },
  {
   "cell_type": "code",
   "execution_count": 17,
   "metadata": {
    "collapsed": true
   },
   "outputs": [],
   "source": [
    "moments.append(\"+0[0,0]+1[0,0]-1\")"
   ]
  },
  {
   "cell_type": "markdown",
   "metadata": {},
   "source": [
    "The last element of defining the problem is the objective function. Since we must include the second projector of Bob's second measurement, but it is abscent in the Collins-Gisin notation, we could produce it as $\\mathbb{1}-B_{10}$. Since, however, the corresponding moment matrix is not normalized, we actually have to include the top-left element of that moment matrix instead of $\\mathbb{1}$. For this, we have a similar syntax that allows us to add variables of the moment matrix to the objective function. Remember also that we must have minimization, hence all signs are inverted."
   ]
  },
  {
   "cell_type": "code",
   "execution_count": 18,
   "metadata": {
    "collapsed": true
   },
   "outputs": [],
   "source": [
    "guessing_probability = - (P_0_B[1][0] - P_1_B[1][0])\n",
    "extraterm=\"-1[0,0]\""
   ]
  },
  {
   "cell_type": "markdown",
   "metadata": {},
   "source": [
    "Now we have everything to generate the SDP and solve the problem:"
   ]
  },
  {
   "cell_type": "code",
   "execution_count": 19,
   "metadata": {
    "collapsed": false
   },
   "outputs": [
    {
     "name": "stdout",
     "output_type": "stream",
     "text": [
      "(-0.5006270052134052, -0.500627005212209)\n"
     ]
    }
   ],
   "source": [
    "level = 2\n",
    "sdpRelaxation.get_relaxation(level, objective=guessing_probability,\n",
    "                             momentequalities=moments, substitutions=substitutions,\n",
    "                             extraobjexpr=extraterm)\n",
    "sdpRelaxation.solve()\n",
    "print(sdpRelaxation.primal, sdpRelaxation.dual)"
   ]
  },
  {
   "cell_type": "markdown",
   "metadata": {},
   "source": [
    "5.2 Global randomness\n",
    "----------------------------\n",
    "The procedure is largely the same as in the case of local randomness, but the number of behaviours will be much larger."
   ]
  },
  {
   "cell_type": "code",
   "execution_count": 20,
   "metadata": {
    "collapsed": true
   },
   "outputs": [],
   "source": [
    "P_00_A = generate_measurements(Alice, 'P_00_A')\n",
    "P_00_B = generate_measurements(Bob, 'P_00_B')\n",
    "P_01_A = generate_measurements(Alice, 'P_01_A')\n",
    "P_01_B = generate_measurements(Bob, 'P_01_B')\n",
    "P_10_A = generate_measurements(Alice, 'P_10_A')\n",
    "P_10_B = generate_measurements(Bob, 'P_10_B')\n",
    "P_11_A = generate_measurements(Alice, 'P_11_A')\n",
    "P_11_B = generate_measurements(Bob, 'P_11_B')\n",
    "substitutions = projective_measurement_constraints(P_00_A, P_00_B)\n",
    "substitutions.update(projective_measurement_constraints(P_01_A, P_01_B))\n",
    "substitutions.update(projective_measurement_constraints(P_10_A, P_10_B))\n",
    "substitutions.update(projective_measurement_constraints(P_11_A, P_11_B))"
   ]
  },
  {
   "cell_type": "markdown",
   "metadata": {},
   "source": [
    "Say, we are interested in the $x=0$, $y=0$ setting, then the guessing probability will be"
   ]
  },
  {
   "cell_type": "code",
   "execution_count": 21,
   "metadata": {
    "collapsed": false
   },
   "outputs": [],
   "source": [
    "guessing_probability = - (P_00_A[0][0]*P_00_B[0][0] +\n",
    "                          P_01_A[0][0]*(1-P_01_B[0][0]) +\n",
    "                          (1-P_10_A[0][0])*P_10_B[0][0] +\n",
    "                          (1-P_11_A[0][0])*(1-P_11_B[0][0])) + 1.0\n",
    "extraterm=\"-3[0,0]\""
   ]
  },
  {
   "cell_type": "markdown",
   "metadata": {},
   "source": [
    "Bounds are defined identically:"
   ]
  },
  {
   "cell_type": "code",
   "execution_count": 22,
   "metadata": {
    "collapsed": false
   },
   "outputs": [],
   "source": [
    "moments = []\n",
    "m = 0\n",
    "for i in range(len(Alice)):\n",
    "    for k in range(Alice[i]-1):\n",
    "        moments.append(-P_00_A[i][k] - P_01_A[i][k] - P_10_A[i][k] - P_11_A[i][k] + probabilities[m])\n",
    "        m += 1\n",
    "for j in range(len(Bob)):\n",
    "    for l in range(Bob[j]-1):\n",
    "        moments.append(-P_00_B[j][l] - P_01_B[j][l] -P_10_B[j][l] - P_11_B[j][l] + probabilities[m])\n",
    "        m += 1\n",
    "for i in range(len(Alice)):\n",
    "    for k in range(Alice[i]-1):\n",
    "        for j in range(len(Bob)):\n",
    "            for l in range(Bob[j]-1):\n",
    "                moments.append(-P_00_A[i][k]*P_00_B[j][l]\n",
    "                              -P_01_A[i][k]*P_01_B[j][l]\n",
    "                              -P_10_A[i][k]*P_10_B[j][l]\n",
    "                              -P_11_A[i][k]*P_11_B[j][l]\n",
    "                              +probabilities[m])\n",
    "                m += 1\n",
    "moments.append(\"-0[0,0]-1[0,0]-2[0,0]-3[0,0]+1\")"
   ]
  },
  {
   "cell_type": "markdown",
   "metadata": {},
   "source": [
    "The solution is given by"
   ]
  },
  {
   "cell_type": "code",
   "execution_count": 23,
   "metadata": {
    "collapsed": false
   },
   "outputs": [
    {
     "name": "stdout",
     "output_type": "stream",
     "text": [
      "(-0.4273418008417784, -0.42733142104509625)\n"
     ]
    }
   ],
   "source": [
    "sdpRelaxation = SdpRelaxation([flatten([P_00_A, P_00_B]),\n",
    "                               flatten([P_01_A, P_01_B]),\n",
    "                               flatten([P_10_A, P_10_B]),\n",
    "                               flatten([P_11_A, P_11_B])],\n",
    "                               normalized=False)\n",
    "sdpRelaxation.get_relaxation(level, objective=guessing_probability,\n",
    "                             momentequalities=moments, substitutions=substitutions,\n",
    "                             extraobjexpr=extraterm)\n",
    "sdpRelaxation.solve()\n",
    "print(sdpRelaxation.primal, sdpRelaxation.dual)"
   ]
  },
  {
   "cell_type": "markdown",
   "metadata": {},
   "source": [
    "6. Additional manipulation of the generated SDPs\n",
    "============================\n",
    "Until now, we never actually touched the generated SDPs, we just solved them by SDPA. We can, however, do arbitrary manipulations to them if we want to. In MATLAB, Yalmip provides a nice, high-level interface to work with conic optimization problems. The Python equivalent is [PICOS](http://picos.zib.de/). PICOS can be installed by typing ``pip install picos`` on the command line.\n",
    "\n",
    "Once we generate an SDP relaxation, we can convert it to a PICOS problem. Let us, for instance, revisit the Moroder hierarchy for CGLMP, but ask for a non-normalized version."
   ]
  },
  {
   "cell_type": "code",
   "execution_count": 24,
   "metadata": {
    "collapsed": true
   },
   "outputs": [],
   "source": [
    "level = 1\n",
    "Alice, Bob = [3, 3], [3, 3]\n",
    "I = [[ 0, -1, -1,  0,  0],\n",
    "     [-1,  1,  1,  0,  1],\n",
    "     [-1,  1,  0,  1,  1],\n",
    "     [ 0,  0,  1,  0, -1],\n",
    "     [ 0,  1,  1, -1, -1]]\n",
    "A = generate_measurements(Alice, 'A')\n",
    "B = generate_measurements(Bob, 'B')\n",
    "substitutions = projective_measurement_constraints(A, B)\n",
    "objective = define_objective_with_I(I, A, B)\n",
    "sdpRelaxation = MoroderHierarchy([flatten(A), flatten(B)], ppt=True, normalized=False)\n",
    "sdpRelaxation.get_relaxation(level, objective=objective, substitutions=substitutions)"
   ]
  },
  {
   "cell_type": "markdown",
   "metadata": {},
   "source": [
    "We can convert this relaxation to a PICOS:"
   ]
  },
  {
   "cell_type": "code",
   "execution_count": 25,
   "metadata": {
    "collapsed": false
   },
   "outputs": [
    {
     "name": "stdout",
     "output_type": "stream",
     "text": [
      "---------------------\n",
      "optimization problem  (SDP):\n",
      "325 variables, 0 affine constraints, 325 vars in 1 SD cones\n",
      "\n",
      "X \t: (25, 25), symmetric\n",
      "\n",
      "\tminimize X\n",
      "such that\n",
      "  X ≽ |0|\n",
      "---------------------\n"
     ]
    }
   ],
   "source": [
    "P = sdpRelaxation.convert_to_picos()\n",
    "print(P)"
   ]
  },
  {
   "cell_type": "markdown",
   "metadata": {},
   "source": [
    "Then we can manually normalized the moment matrix:"
   ]
  },
  {
   "cell_type": "code",
   "execution_count": 26,
   "metadata": {
    "collapsed": false
   },
   "outputs": [],
   "source": [
    "X = P.get_variable('X')\n",
    "P.add_constraint(X[0, 0] == 1)"
   ]
  },
  {
   "cell_type": "markdown",
   "metadata": {},
   "source": [
    "Just like Yalmip, PICOS can call a number of different solvers to deal with an SDP. By default, it looks for the most efficient one, and if it cannot find anything else, it will use [CVXOPT](http://cvxopt.org/). Here we explicitly force it use CVXOPT:"
   ]
  },
  {
   "cell_type": "code",
   "execution_count": 27,
   "metadata": {
    "collapsed": false
   },
   "outputs": [
    {
     "data": {
      "text/plain": [
       "{'cvxopt_sol': {'dual infeasibility': 1.2275769451556526e-09,\n",
       "  'dual objective': 0.0549811036763854,\n",
       "  'dual slack': 2.5804431425497183e-11,\n",
       "  'gap': 6.591149605133918e-09,\n",
       "  'iterations': 12,\n",
       "  'primal infeasibility': 2.026546493978188e-09,\n",
       "  'primal objective': 0.05498110365333003,\n",
       "  'primal slack': 2.6195393825613468e-11,\n",
       "  'relative gap': 1.1988027093688267e-07,\n",
       "  'residual as dual infeasibility certificate': None,\n",
       "  'residual as primal infeasibility certificate': None,\n",
       "  's': <625x1 matrix, tc='d'>,\n",
       "  'status': 'optimal',\n",
       "  'x': <326x1 matrix, tc='d'>,\n",
       "  'y': <81x1 matrix, tc='d'>,\n",
       "  'z': <625x1 matrix, tc='d'>},\n",
       " 'obj': 0.054981103664857714,\n",
       " 'status': 'optimal',\n",
       " 'time': 0.28634095191955566}"
      ]
     },
     "execution_count": 27,
     "metadata": {},
     "output_type": "execute_result"
    }
   ],
   "source": [
    "P.solve(solver='cvxopt')"
   ]
  },
  {
   "cell_type": "markdown",
   "metadata": {},
   "source": [
    "PICOS cannot use SDPA to solve a problem, but it can export to SDPA format."
   ]
  },
  {
   "cell_type": "markdown",
   "metadata": {},
   "source": [
    "7. Alternative SDP solvers\n",
    "===============\n",
    "7.1 Other members of the SDPA family\n",
    "------------------------------------------------\n",
    "The regular (double) precision solver of SDPA is the most difficult to compile. The source files are also available at the same place for the quad-double precision solver SDPA_QD, and the arbitrary-precision solver SDPA_GMP, which are infinitely easier to compile, requiring just one external library each.\n",
    "\n",
    "The SDPA solvers come with a param.sdpa file for default parameter settings. This file is very similar for SDPA_QD and SDPA_GMP, but it is different for the double-precision solver. The parameter file should not be mixed up, as it leads to undefined behaviour. For SDPA_QD and SDPA_GMP, I recommend the following pattern of use:\n",
    "\n",
    "1. Use the ``write_to_sdpa`` function of Ncpol2sdpa to write the SDP relaxation to a file that any SDP solver can use. The target directory should be where the param.sdpa file of SDPA_QD and SDPA_GMP resides. The filename should have the extension ``.dat-s``.\n",
    "2. Run either SDPA_QD or SDPA_GMP in that directory.\n",
    "3. Process the result in Ncpol2sdpa with ``read_sdpa_out`` if you want to analyze the solution matrix, find a rank loop (``find_rank_loop``), or do an SOS decomposition (``sos_decomposition``).\n",
    "\n",
    "It is a bit tedious, but since the high-precision solvers are approximately 1,000x slower, this procedure ensures a fool-proof workflow.\n",
    "\n",
    "7.2 Mosek and CVXOPT\n",
    "---------------------------\n",
    "For CVXOPT, the only option is via PICOS. It is, however, extremely slow. [Mosek](http://mosek.com/) is a better alternative, but it requires a university email address to get a free licence, and it seems to consume more memory than SDPA. To use Mosek, you can either use Picos and specify ``mosek7`` as the solver, or you can directly convert it to Mosek format from Ncpol2sdpa with the function ``convert_to_mosek``.\n",
    "\n",
    "7.3 Execution on a cluster\n",
    "-----------------------------------\n",
    "SDPA is extremely well-suited to run on a cluster, or at least on a high-performance computing node. The procedure of submitting an SDP to a cluster can be greatly simplified. Follow step 1 in Section 7.1 to get a problem in SDPA format. Assume that you have a job script called ``job_sdp.sh`` on the cluster in your home directory that takes two parameters, the name of the SDPA file and the output file, and sends you an email when the calculation is ready. Then, if the hostname of the cluster is ``cluster``, you can use this script to upload the problem and schedule the execution:\n",
    "\n",
    "```\n",
    "#!/bin/bash\n",
    "scp $1 cluster:\n",
    "ssh username@cluster qsub job_sdp.sh $1 ${1%.*}.out\n",
    "```\n",
    "where the parameter is the name of the SDPA file (e.g., ``problem.dat-s``). You might have to change the command ``qsub`` to the job submission command used on the cluster."
   ]
  },
  {
   "cell_type": "markdown",
   "metadata": {},
   "source": [
    "References\n",
    "======\n",
    "[1] Pironio, S.; Navascués, M. & Acín, A. [Convergent relaxations of polynomial optimization problems with noncommuting variables](http://arxiv.org/abs/0903.4368). _SIAM Journal on Optimization_, 2010, 20, pp. 2157-2180.\n",
    "\n",
    "[2] Wittek, P. [Ncpol2sdpa -- Sparse Semidefinite Programming Relaxations for Polynomial Optimization Problems of Noncommuting Variables](http://arxiv.org/abs/1308.6029). _To appear in the ACM Transactions on Mathematical Software_, 2015."
   ]
  }
 ],
 "metadata": {
  "kernelspec": {
   "display_name": "Python 2",
   "language": "python2",
   "name": "python2"
  },
  "language_info": {
   "codemirror_mode": {
    "name": "ipython",
    "version": 2
   },
   "file_extension": ".py",
   "mimetype": "text/x-python",
   "name": "python",
   "nbconvert_exporter": "python",
   "pygments_lexer": "ipython2",
   "version": "2.7.10"
  }
 },
 "nbformat": 4,
 "nbformat_minor": 0
}
